{
 "cells": [
  {
   "cell_type": "markdown",
   "metadata": {},
   "source": [
    "# Iain Lyall\n",
    "\n",
    "# GA Data Science project : DAT3 (Mar-May 2017) "
   ]
  },
  {
   "cell_type": "markdown",
   "metadata": {},
   "source": [
    "## Project case\n",
    "\n",
    "This project aims to meet the needs of the General Assembly's (GA) project deliverable for the 10 week, part-time Data Science course. The intention is to provide evidence of learning Data Science topics by the end of the course (May 2017). This includes (to a greater or lesser extent):\n",
    "\n",
    "* Python hacking\n",
    "* Data wrangling - scraping, cleaning and analysis.\n",
    "* Leverage of Statistical data algorithms\n",
    "* Machine learning, including methods used to train/test data\n",
    "* Data visualisation\n",
    "\n",
    "Given the relatively short duration of the course and the volume of 'human learning' required, the project deliverable  is not expected to be a commecial grade application. However, a summary of the strength and weaknesses should be provided at completion, as well as possible improvements to take if forward. Hopefully though, the project will provide more than a certification and prove 'of interest' to others, such as future GA students."
   ]
  },
  {
   "cell_type": "markdown",
   "metadata": {},
   "source": [
    "## Choosing a project scope\n",
    "\n",
    "The following 4 step approach is recommended:\n",
    "\n",
    "1/  Identify the problem to be solved   \n",
    "2/  Identify the dataset of interest   \n",
    "3/  Explore dataset in step 2  \n",
    "4/  Identify and confirm approach to solving 1  "
   ]
  },
  {
   "cell_type": "markdown",
   "metadata": {},
   "source": [
    "## Chosen scope\n",
    "\n",
    "Determine if there are any key influencers on UK road accidents based on identifiable features from government provided, public data. Are there any features that can be used to predict levels of accidents at a regional level?\n"
   ]
  },
  {
   "cell_type": "markdown",
   "metadata": {},
   "source": [
    "## Dataset(s) of interest\n",
    "\n",
    "Datasets provided by the UK government on road safety will be used. This includes those with raw data, collections or statistical tables. The following datasets will be 'scraped' into a dataFrame (or two) such that they can be used for analysis and reporting purposes:\n",
    "\n",
    "https://data.gov.uk/dataset/road-accidents-safety-data\n",
    "https://www.gov.uk/government/collections/driving-test-operational-statistics      \n",
    "https://www.gov.uk/government/collections/road-accidents-and-safety-statistics  \n",
    "https://www.gov.uk/government/statistical-data-sets/road-accidents-and-safety-statistical-tables-index\n",
    "https://www.gov.uk/government/policies/road-safety\n",
    "\n"
   ]
  },
  {
   "cell_type": "markdown",
   "metadata": {},
   "source": [
    "## Dataset exploration\n",
    "\n",
    "Ongoing...\n",
    "\n",
    "\n"
   ]
  },
  {
   "cell_type": "markdown",
   "metadata": {},
   "source": [
    "## Approach\n",
    "\n",
    "Ongoing...\n",
    "\n",
    "Initialy focus would be on 2015 data as this seems most readily available across all datasets. If time permits, a similar assement may be done for other years. Some incidental statistics will also be provided by use of graphical plots and histograms (e.g. distributions of pass rates by region, yearly variations in test numbers and car models involved in an accident). These will be verified against any statistical reports already provided by the data sources.\n",
    "\n",
    "Some linear regression and clustering assessment will be performed to determine best features to use. Presentation will make use of available packges - e.g. Basemap with UK based shapefiles to demonstrate any regional variations and other graphical illustrations.\n",
    "\n",
    "Possibility to leverage machine learning is not yet clear, but may prove possible to use the data to train a (supervised) prediction of outcome. \n",
    "\n",
    "Initial investigation will focus on inexperienced (newly qualified) drivers."
   ]
  },
  {
   "cell_type": "markdown",
   "metadata": {},
   "source": [
    "## Important notes\n",
    "\n",
    "* caveats e.g. confidentialty of data set etc.\n",
    "* ackkowledgements dataset sources and packages used\n",
    "* Assumptions (people take test outside thier location - practical tests only...)\n"
   ]
  }
 ],
 "metadata": {
  "kernelspec": {
   "display_name": "Python (GA)",
   "language": "python",
   "name": "ga"
  },
  "language_info": {
   "codemirror_mode": {
    "name": "ipython",
    "version": 2
   },
   "file_extension": ".py",
   "mimetype": "text/x-python",
   "name": "python",
   "nbconvert_exporter": "python",
   "pygments_lexer": "ipython2",
   "version": "2.7.13"
  }
 },
 "nbformat": 4,
 "nbformat_minor": 2
}
