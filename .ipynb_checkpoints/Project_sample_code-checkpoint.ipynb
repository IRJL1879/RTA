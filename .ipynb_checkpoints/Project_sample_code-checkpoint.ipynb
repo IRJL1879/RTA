{
 "cells": [
  {
   "cell_type": "markdown",
   "metadata": {},
   "source": [
    "# Project Samples"
   ]
  },
  {
   "cell_type": "markdown",
   "metadata": {},
   "source": [
    "## HTTP scraping with Beautiful Soup"
   ]
  },
  {
   "cell_type": "code",
   "execution_count": 1,
   "metadata": {
    "collapsed": false
   },
   "outputs": [
    {
     "name": "stdout",
     "output_type": "stream",
     "text": [
      "<a href='http://www.nndb.com/'></a>\n",
      "<a href='/lists/591/000106273/'>14-Mar</a>\n",
      "<a href='/lists/878/000105563/'>1879</a>\n",
      "<a href='/geo/345/000101042/'>Ulm, Wurttemberg, Germany</a>\n",
      "<a href='/lists/992/000106674/'>18-Apr</a>\n",
      "<a href='/lists/465/000106147/'>1955</a>\n",
      "<a href='/geo/670/000069463/'>Princeton, NJ</a>\n",
      "<a href='/lists/282/000069075/'>Atheist</a>\n",
      "<a href='#FN1'>[1]</a>\n",
      "<a href='/lists/629/000096341/'>Physicist</a>\n",
      "<a href='/people/229/000058055/'>Max Planck</a>\n",
      "<a href='/people/366/000168859/'>Arthur Eddington</a>\n",
      "<a href='/people/115/000024043/'>Franklin D. Roosevelt</a>\n",
      "<a href='/people/395/000032299/'>Paul Robeson</a>\n",
      "<a href='/people/456/000024384/'>J. Edgar Hoover</a>\n",
      "<a href='/people/954/000044822/'>Bertrand Russell</a>\n",
      "<a href='None'>[1] Often used the word \"God\" or \"Old Man\" as a metaphor for the Laws of Nature. As a member of the American Humanist Association, there is little reason to think he believed in any kind of personal God. In a letter to Eric Gutkind dated 3 January 1954 he wrote, \"The word god is for me nothing more than the expression and product of human weakness, the Bible a collection of honourable, but still primitive legends which are nevertheless pretty childish... For me the Jewish religion like all others is an incarnation of the most childish superstitions. And the Jewish people to whom I gladly belong and with whose mentality I have a deep affinity have no different quality for me than all other people. As far as my experience goes, they are also no better than other human groups, although they are protected from the worst cancers by a lack of power. Otherwise I cannot see anything chosen about them.\" An earlier letter to M. Berkowitz, dated 25 October 1950, uses hedged words to indicate sympathy towards agnosticism but Einstein pointedly refrains from calling himself agnostic: \"My position concerning God is that of an agnostic. I am convinced that a vivid consciousness of the primary importance of moral principles for the betterment and ennoblement of life does not need the idea of a law-giver, especially a law-giver who works on the basis of reward and punishment.\" Certainly with this view one cannot call him a Deist as some claim. The careful choice of words thus permits his atheistic view three years later. Einstein publicly claimed on several occasions that he was not an atheist, but it is difficult to square that with the private declarations to Gutkind.\n",
      "Father: Hermann Einstein (salesman, b. 1847, d. 1902)Mother: Pauline Koch (b. 1858, d. 1920)Sister: Maria \"Maja\" (b. 18-Nov-1881, d. 1951)Wife: Mileva Maric (b. 1875, m. 6-Jan-1903, div. 14-Feb-1919, d. 1948, three children)Daughter: Lieserl (b. 1902 prior to marriage, probably put up for adoption)Son: Hans Albert (hydraulic engineer, b. 14-May-1904, d. 26-Jul-1973)Son: Eduard (schizophrenic, b. 28-Jul-1910, d. 25-Oct-1965)Wife: Elsa Löwenthal (his cousin, b. 18-Jan-1876, mistress 1912-19, m. 2-Jun-1919, d. 20-Dec-1936)Daughter: Ilse (stepdaughter, b. 1897, d. 1934)Daughter: Margot (stepdaughter, b. 1899, d. 1986)</a>\n",
      "<a href='None'>    High School: Luitpold Gymnasium, Munich (dropped out)    High School: Staatsarchiv Kanton, Aarau, Switzerland (1896)    University: </a>\n",
      "<a href='/edu/371/000220708/'>BS Mathematics & Physics, Swiss Federal Institute of Technology (1901)</a>\n",
      "<a href='/edu/371/000220708/'>PhD Physics, Swiss Federal Institute of Technology (1905)</a>\n",
      "<a href='/edu/825/000111492/'>Physics, University of Bern (1908-09)</a>\n",
      "<a href='/edu/626/000071413/'>Theoretical Physics, University of Zurich (1909-11)</a>\n",
      "<a href='/edu/371/000220708/'>Theoretical Physics, Swiss Federal Institute of Technology (1912-14)</a>\n",
      "<a href='/edu/634/000079397/'>Theoretical Physics, University of Berlin (1914-32)</a>\n",
      "<a href='/honors/201/000067997/'>Nobel Prize for Physics</a>\n",
      "<a href='/honors/815/000099518/'>Matteucci Medal</a>\n",
      "<a href='/honors/763/000072547/'>Copley Medal</a>\n",
      "<a href='/honors/854/000117503/'>Royal Astronomical Society Gold Medal</a>\n",
      "<a href='/honors/513/000071300/'>Max Planck Medal</a>\n",
      "<a href='/people/229/000058055/'>Max Planck</a>\n",
      "<a href='/honors/044/000111708/'>Benjamin Franklin Medal</a>\n",
      "<a href='/org/152/000165654/'>American Humanist Association</a>\n",
      "<a href='/org/640/000052484/'>American Philosophical Society</a>\n",
      "<a href='/org/041/000353976/'>League of American Writers</a>\n",
      "<a href='/org/080/000113738/'>League of Nations</a>\n",
      "<a href='/org/813/000041690/'>NAACP</a>\n",
      "<a href='/org/107/000099807/'>Royal Society of Edinburgh</a>\n",
      "<a href='/event/426/000100126/'>Naturalized Swiss Citizen</a>\n",
      "<a href='/event/704/000120344/'>Naturalized Austrian Citizen</a>\n",
      "<a href='/event/582/000051429/'>Naturalized US Citizen</a>\n",
      "<a href='/event/297/000113955/'>Surgery</a>\n",
      "<a href='/event/340/000164845/'>Autopsy</a>\n",
      "<a href='/event/722/000345684/'>Proxy Baptism: Mormon</a>\n",
      "<a href='/group/738/000055573/'>Manhattan Project</a>\n",
      "<a href='/group/814/000054652/'>Sgt. Pepper Lonely Heart</a>\n",
      "<a href='/lists/919/000095634/'>Asteroid Namesake</a>\n",
      "<a href='/lists/359/000099062/'>Chemical Element Namesake</a>\n",
      "<a href='/lists/644/000044512/'>German Ancestry</a>\n",
      "<a href='/lists/481/000045346/'>Jewish Ancestry</a>\n",
      "<a href='/lists/786/000064594/'>Dyslexia</a>\n",
      "<a href='/lists/778/000064586/'>Smoking</a>\n",
      "<a href='/lists/060/000089790/'>Orgone</a>\n",
      "<a href='/people/432/000179892/'>Élie Cartan</a>\n",
      "<a href='/people/507/000071294/'>Max Born</a>\n",
      "<a href='http://mapper.nndb.com/'>NNDB MAPPER</a>\n",
      "<a href='http://mapper.nndb.com/start/?id=22236'></a>\n",
      "<a href='http://mapper.nndb.com/start/?id=22236'>Albert Einstein</a>\n",
      "<a href='http://commentary.nndb.com/submit/feedback/?id=22236'>Submit a correction or make a comment about this profile</a>\n",
      "<a href='http://mapper.nndb.com/'>NNDB MAPPER</a>\n",
      "<a href='http://mapper.nndb.com/maps/005/000001002/'>Timeline of physicists</a>\n",
      "<a href='http://mapper.nndb.com/start/?id=22236'></a>\n",
      "<a href='http://mapper.nndb.com/start/?id=22236'>Albert Einstein</a>\n",
      "<a href='/topics/948/000175423/'>Physics</a>\n",
      "<a href='/topics/369/000174844/'>Popular Culture</a>\n",
      "<a href='/topics/148/000175620/'>Relativity</a>\n"
     ]
    }
   ],
   "source": [
    "# Import packages HTTP\n",
    "import requests\n",
    "from bs4 import BeautifulSoup\n",
    "\n",
    "# Specify url: url\n",
    "#url = 'http://www.nndb.com/lists/629/000096341/' # List of physicists\n",
    "url = 'http://www.nndb.com/people/302/000022236/' # Albert Einstein profile\n",
    "\n",
    "# Package the request, send the request and catch the response: r\n",
    "r = requests.get(url)\n",
    "\n",
    "# Extract the response as html: html_doc\n",
    "html_doc = r.content\n",
    "\n",
    "# Create a BeautifulSoup object from the HTML: soup\n",
    "soup = BeautifulSoup(html_doc, \"html5lib\")\n",
    "\n",
    "# Get the title of webpage: NNDB_page_title\n",
    "NNDB_page_title = soup.title\n",
    "\n",
    "# Print the title of webpage to the shell\n",
    "#print(NNDB_page_title)\n",
    "\n",
    "# Get text: NNDB_page_text\n",
    "NNDB_page_text = soup.get_text()\n",
    "\n",
    "# Print text to the shell\n",
    "#print(NNDB_page_text)\n",
    "\n",
    "links = soup.find_all(\"a\")\n",
    "\n",
    "for link in links:\n",
    "    #print link.text, link.get(\"href\")\n",
    "    print \"<a href='%s'>%s</a>\" %(link.get(\"href\"), link.text)"
   ]
  },
  {
   "cell_type": "markdown",
   "metadata": {},
   "source": [
    "## JSON load from an API (CKAN)"
   ]
  },
  {
   "cell_type": "code",
   "execution_count": 2,
   "metadata": {
    "collapsed": false
   },
   "outputs": [
    {
     "name": "stdout",
     "output_type": "stream",
     "text": [
      "(u'maintainer', u'')\n",
      "(u'relationships_as_object', [])\n",
      "(u'private', False)\n",
      "(u'maintainer_email', u'')\n",
      "(u'num_tags', 0)\n",
      "(u'id', u'e13109fd-b727-40a9-82d1-35a2fe3f538d')\n",
      "(u'metadata_created', u'2016-04-12T08:45:33.950030')\n",
      "(u'metadata_modified', u'2016-04-12T08:45:33.970906')\n",
      "(u'author', u'Simona De Luca, Aline Pennisi')\n"
     ]
    }
   ],
   "source": [
    "#Import JSON packages from an API (e.g. CKAN)\n",
    "import urllib2\n",
    "import urllib\n",
    "import json\n",
    "import pprint\n",
    "\n",
    "# Make the HTTP request.\n",
    "response = urllib2.urlopen('http://demo.ckan.org/api/3/action/package_search?q=spending&rows=10')\n",
    "##with open('http://demo.ckan.org/api/3/action/package_list','r') as json_file:\n",
    " #   json_data = json.load(json_file)\n",
    "\n",
    "assert response.code == 200\n",
    "\n",
    "# Use the json module to load CKAN's response into a dictionary.\n",
    "response_dict = json.loads(response.read())\n",
    "sub_dict = {}\n",
    "# Check the contents of the response.\n",
    "assert response_dict['success'] is True\n",
    "dict_list = response_dict['result']['results']\n",
    "# print dict_list\n",
    "for a in range(1,len(dict_list)):\n",
    "    sub_dict.update(dict_list[a])\n",
    "dict_list =  zip(sub_dict.keys(),sub_dict.values())\n",
    "\n",
    "for b in range (1, 10): # len(dict_list):\n",
    "    print dict_list[b]\n",
    "# print sub_dict\n",
    "# print type (sub_dict)\n",
    "#pprint.pprint(dict)\n",
    "#print (json_data)"
   ]
  },
  {
   "cell_type": "markdown",
   "metadata": {},
   "source": [
    "## Address to Longitude, Latitude conversion"
   ]
  },
  {
   "cell_type": "code",
   "execution_count": 3,
   "metadata": {
    "collapsed": false
   },
   "outputs": [
    {
     "name": "stdout",
     "output_type": "stream",
     "text": [
      "Crawley, West Sussex, South East, England, UK\n",
      "(51.1103444, -0.1801093)\n",
      "{u'display_name': u'Crawley, West Sussex, South East, England, UK', u'importance': 0.59665285887146, u'place_id': u'158671038', u'lon': u'-0.1801093', u'lat': u'51.1103444', u'osm_type': u'relation', u'licence': u'Data \\xa9 OpenStreetMap contributors, ODbL 1.0. http://www.openstreetmap.org/copyright', u'osm_id': u'114858', u'boundingbox': [u'51.0848063', u'51.167301', u'-0.2556344', u'-0.1329795'], u'type': u'administrative', u'class': u'boundary', u'icon': u'https://nominatim.openstreetmap.org/images/mapicons/poi_boundary_administrative.p.20.png'}\n"
     ]
    }
   ],
   "source": [
    "from geopy.geocoders import Nominatim\n",
    "geolocator = Nominatim()\n",
    "location = geolocator.geocode(\"Crawley\")\n",
    "print(location.address)\n",
    "print((location.latitude, location.longitude))\n",
    "print(location.raw)"
   ]
  },
  {
   "cell_type": "markdown",
   "metadata": {},
   "source": [
    "## Longitude, Latitude to Address conversion"
   ]
  },
  {
   "cell_type": "code",
   "execution_count": null,
   "metadata": {
    "collapsed": false,
    "scrolled": true
   },
   "outputs": [
    {
     "name": "stdout",
     "output_type": "stream",
     "text": [
      "9, Airlie Gardens, Notting Hill, Royal Borough of Kensington and Chelsea, London, Greater London, England, W8 7AR, UK\n",
      "(51.5054197333333, -0.198617355555556)\n",
      "{u'display_name': u'9, Airlie Gardens, Notting Hill, Royal Borough of Kensington and Chelsea, London, Greater London, England, W8 7AR, UK', u'place_id': u'22487687', u'lon': u'-0.198617355555556', u'boundingbox': [u'51.505319733333', u'51.505519733333', u'-0.19871735555556', u'-0.19851735555556'], u'osm_type': u'way', u'licence': u'Data \\xa9 OpenStreetMap contributors, ODbL 1.0. http://www.openstreetmap.org/copyright', u'osm_id': u'268111758', u'lat': u'51.5054197333333', u'address': {u'city': u'London', u'state_district': u'Greater London', u'house_number': u'9', u'country': u'UK', u'suburb': u'Notting Hill', u'state': u'England', u'postcode': u'W8 7AR', u'country_code': u'gb', u'road': u'Airlie Gardens'}}\n"
     ]
    }
   ],
   "source": [
    "from geopy.geocoders import Nominatim\n",
    "geolocator = Nominatim()\n",
    "location = geolocator.reverse(\"51.505538, -0.198465\")\n",
    "print(location.address)\n",
    "print((location.latitude, location.longitude))\n",
    "print(location.raw)"
   ]
  },
  {
   "cell_type": "markdown",
   "metadata": {},
   "source": [
    "## Graphical UK shapes output"
   ]
  },
  {
   "cell_type": "code",
   "execution_count": null,
   "metadata": {
    "collapsed": false,
    "scrolled": true
   },
   "outputs": [
    {
     "name": "stdout",
     "output_type": "stream",
     "text": [
      "Accident dataload: 1.41799998283 seconds \n",
      "Map creation: 80.4830000401 seconds \n"
     ]
    }
   ],
   "source": [
    "# import packages\n",
    "import matplotlib.pyplot as plt\n",
    "import matplotlib.cm\n",
    "import pandas as pd\n",
    "import os\n",
    "import time\n",
    "\n",
    "from mpl_toolkits.basemap import Basemap\n",
    "from matplotlib.patches import Polygon\n",
    "from matplotlib.collections import PatchCollection\n",
    "from matplotlib.colors import Normalize\n",
    "\n",
    "%matplotlib inline\n",
    "\n",
    "start_time0 = time.time()\n",
    "# load accident data\n",
    "df = pd.read_csv(\"../Road_safety/Accidents_2015.csv\")\n",
    "df['position'] = zip(df['Latitude'], df['Longitude'])\n",
    "accident = df\n",
    "print \"Accident dataload: %s seconds \" % (time.time() - start_time0)\n",
    "\n",
    "start_time1 = time.time()\n",
    "# create map\n",
    "fig, ax = plt.subplots(figsize=(10,20))\n",
    "m = Basemap(resolution='f',\n",
    "            projection='merc',\n",
    "            lat_0=54.5, lon_0=-4.36,\n",
    "            llcrnrlon=-10.7, llcrnrlat=49.87, urcrnrlon=2.06, urcrnrlat=58.76)\n",
    "m.drawmapboundary(fill_color='#46bcec')\n",
    "m.fillcontinents(color='#f2f2f2',lake_color='#46bcec')\n",
    "m.drawcoastlines()\n",
    "m.readshapefile('../Road_safety/Areas/Areas', 'areas')\n",
    "print \"Map creation: %s seconds \" % (time.time() - start_time1)\n",
    "\n",
    "# mark location\n",
    "def plot_area(pos):\n",
    "    global count\n",
    "    x, y = m(pos[1], pos[0])\n",
    "    m.plot(x, y, 'o', markersize=0.5, color='red', alpha=0.8)\n",
    "\n",
    "start_time2 = time.time()    \n",
    "# plot all accidents on map\n",
    "accident.position.apply(plot_area)\n",
    "print \"Accident plot: %s seconds \" % (time.time() - start_time2)\n",
    "m\n",
    "print \"Full run: %s seconds \" % (time.time() - start_time0)"
   ]
  }
 ],
 "metadata": {
  "kernelspec": {
   "display_name": "Python (GA)",
   "language": "python",
   "name": "ga"
  },
  "language_info": {
   "codemirror_mode": {
    "name": "ipython",
    "version": 2
   },
   "file_extension": ".py",
   "mimetype": "text/x-python",
   "name": "python",
   "nbconvert_exporter": "python",
   "pygments_lexer": "ipython2",
   "version": "2.7.13"
  }
 },
 "nbformat": 4,
 "nbformat_minor": 2
}
