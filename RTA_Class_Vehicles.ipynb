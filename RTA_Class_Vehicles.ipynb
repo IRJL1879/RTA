{
 "cells": [
  {
   "cell_type": "markdown",
   "metadata": {},
   "source": [
    "# Vehicles data Preprocessing"
   ]
  },
  {
   "cell_type": "markdown",
   "metadata": {},
   "source": [
    "### The following sources have been used:\n",
    "\n",
    "Vehicles data: https://data.gov.uk/dataset/road-accidents-safety-data"
   ]
  },
  {
   "cell_type": "code",
   "execution_count": 1,
   "metadata": {
    "collapsed": false
   },
   "outputs": [
    {
     "name": "stdout",
     "output_type": "stream",
     "text": [
      "Vehicles dataload: 1.81799983978 seconds \n"
     ]
    }
   ],
   "source": [
    "'''\n",
    "RTA Vehicles file creation\n",
    "\n",
    "'''\n",
    "import pandas as pd\n",
    "import glob\n",
    "import os\n",
    "import time\n",
    "import sys\n",
    "\n",
    "###print(os.getcwd())\n",
    "\n",
    "start_time0 = time.time()\n",
    "\n",
    "# file i/o\n",
    "csv_loader ='Specs/Vehicles_FLM.csv'\n",
    "csv_in = 'Data/Vehicles_2015.csv'\n",
    "csv_out = 'Data/Vehicles.csv'\n",
    "\n",
    "#load field name mapper\n",
    "pfl = pd.read_csv(csv_loader, low_memory=False)\n",
    "pc_cols_rename = dict(pfl[['field_name','field_descriptor']].where(pfl['import']=='Y').dropna().values.tolist())\n",
    "pc_cols_drop = pfl['field_name'].where(pfl['import']=='N').dropna().values.tolist()\n",
    "\n",
    "#load Vehicles file\n",
    "Vehicles = pd.read_csv(csv_in,low_memory=False)\n",
    "\n",
    "#clean up data\n",
    "Vehicles.drop(pc_cols_drop, axis=1, inplace=True)\n",
    "Vehicles.rename(columns=pc_cols_rename, inplace=True)\n",
    "###postcodes.drop_duplicates()\n",
    "###postcodes.info()\n",
    "\n",
    "#save for later\n",
    "try:\n",
    "    Vehicles.to_csv(csv_out, index=False)\n",
    "except IOError as (errno, strerror):\n",
    "    print 'I/O error({0}): {1}'.format(errno, strerror)\n",
    "    if errno == 13:\n",
    "        print '*** check to see if (someone has) file already open ***'\n",
    "except:\n",
    "    print \"Unexpected error:\", sys.exc_info()[0]\n",
    "    raise\n",
    "    \n",
    "print \"Vehicles dataload: %s seconds \" % (time.time() - start_time0)"
   ]
  },
  {
   "cell_type": "code",
   "execution_count": 2,
   "metadata": {
    "collapsed": false
   },
   "outputs": [
    {
     "name": "stdout",
     "output_type": "stream",
     "text": [
      "C:\\GA\\RTA\n"
     ]
    }
   ],
   "source": [
    "'''\n",
    "RTA Vehicles load\n",
    "\n",
    "'''\n",
    "import pandas as pd\n",
    "import os\n",
    "import time\n",
    "\n",
    "print(os.getcwd())\n",
    "\n",
    "#Load Vehicles data\n",
    "csv_in = 'Data/Vehicles.csv'\n",
    "Vehicles = pd.read_csv(csv_in)\n"
   ]
  },
  {
   "cell_type": "code",
   "execution_count": 3,
   "metadata": {
    "collapsed": false
   },
   "outputs": [
    {
     "name": "stdout",
     "output_type": "stream",
     "text": [
      "<class 'pandas.core.frame.DataFrame'>\n",
      "RangeIndex: 257845 entries, 0 to 257844\n",
      "Data columns (total 12 columns):\n",
      "accident_index                 257845 non-null object\n",
      "vehicle_reference              257845 non-null int64\n",
      "vehicle_type                   257845 non-null int64\n",
      "towing_and_articulation        257845 non-null int64\n",
      "vehicle_manoeuvre              257845 non-null int64\n",
      "junction_location              257845 non-null int64\n",
      "was_vehicle_left_hand_drive    257845 non-null int64\n",
      "sex_of_driver                  257845 non-null int64\n",
      "age_of_driver                  257845 non-null int64\n",
      "engine_capacity_(cc)           257845 non-null int64\n",
      "propulsion_code                257845 non-null int64\n",
      "age_of_vehicle                 257845 non-null int64\n",
      "dtypes: int64(11), object(1)\n",
      "memory usage: 23.6+ MB\n",
      "None\n"
     ]
    },
    {
     "data": {
      "image/png": "[encoded data removed]",
      "text/plain": [
       "<matplotlib.figure.Figure at 0xde00278>"
      ]
     },
     "metadata": {},
     "output_type": "display_data"
    }
   ],
   "source": [
    "'''\n",
    "RTA Vehicles check data\n",
    "\n",
    "'''\n",
    "\n",
    "import matplotlib.pyplot as plt\n",
    "%matplotlib inline\n",
    "\n",
    "# check data\n",
    "print(Vehicles.info())\n",
    "col = 'was_vehicle_left_hand_drive'\n",
    "Vehicles.groupby([col])[col].count().plot(kind='bar')\n",
    "plt.show()\n",
    "\n",
    "#print(Vehicles.groupby([col])[col].count())"
   ]
  }
 ],
 "metadata": {
  "kernelspec": {
   "display_name": "Python (GA)",
   "language": "python",
   "name": "ga"
  },
  "language_info": {
   "codemirror_mode": {
    "name": "ipython",
    "version": 2
   },
   "file_extension": ".py",
   "mimetype": "text/x-python",
   "name": "python",
   "nbconvert_exporter": "python",
   "pygments_lexer": "ipython2",
   "version": "2.7.13"
  }
 },
 "nbformat": 4,
 "nbformat_minor": 2
}
