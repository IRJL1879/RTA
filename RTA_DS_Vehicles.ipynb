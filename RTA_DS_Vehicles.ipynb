{
 "cells": [
  {
   "cell_type": "markdown",
   "metadata": {},
   "source": [
    "# Vehicles dataset creation\n",
    "\n",
    "\n",
    "### Process Flow :\n",
    "\n",
    "1. load file from Internet and create pickle snapshot in case dataset site off-line \n",
    "2. enrich dataset with push bike 'engine capacity' = 0 to avoid dropping data (defaults to -1)\n",
    "    3. save enriched Vehicle data for downstream use\n",
    "    4. reload preprocessed data and check details\n",
    "\n",
    "### Input data\n",
    "\n",
    "Vehicles data: from https://data.gov.uk/dataset/road-accidents-safety-data  \n",
    "**Vehicles_FLM.csv**: from /Specs directory\n",
    "\n",
    "### Output data\n",
    "\n",
    "* 'Vehicles_2015.pickle': snapshot of Vehicles source data\n",
    "* 'Vehicles.pickle' : **Vehicles dataset**\n",
    "* saved data assessment plot (.png) snapshots"
   ]
  },
  {
   "cell_type": "markdown",
   "metadata": {},
   "source": [
    "## Import external libraries"
   ]
  },
  {
   "cell_type": "code",
   "execution_count": 1,
   "metadata": {
    "collapsed": true
   },
   "outputs": [],
   "source": [
    "'''\n",
    "RTA Vehicles required imports\n",
    "'''\n",
    "import pandas as pd\n",
    "import numpy as np\n",
    "import time\n",
    "import sys\n",
    "import matplotlib.pyplot as plt\n",
    "%matplotlib inline"
   ]
  },
  {
   "cell_type": "markdown",
   "metadata": {},
   "source": [
    "## 'Import' RTAUtilities"
   ]
  },
  {
   "cell_type": "code",
   "execution_count": 2,
   "metadata": {
    "collapsed": true
   },
   "outputs": [],
   "source": [
    "'''\n",
    "Provide output of csv and pickle formats for DataFrames\n",
    "'''\n",
    "def pick_and_csv(df, path, filename):\n",
    "    import sys\n",
    "    try:\n",
    "        df.to_csv(path + filename + '.csv', index=False)\n",
    "        df.to_pickle(path + filename + '.pickle')\n",
    "    except IOError as (errno, strerror):\n",
    "        print ('I/O error({0}): {1}'.format(errno, strerror))\n",
    "        if errno == 13:\n",
    "            print ('*** check to see if (someone has) file already open ***')\n",
    "        elif errno == 2:\n",
    "            print ('Directory parameter needs to be a valid directory')\n",
    "    except:\n",
    "        print (\"Unexpected error:\", sys.exc_info()[0])\n",
    "        print ('*** is first parameter a DataFrame? ***')\n",
    "        raise"
   ]
  },
  {
   "cell_type": "markdown",
   "metadata": {},
   "source": [
    "## Load Vehicles data and create dataset"
   ]
  },
  {
   "cell_type": "code",
   "execution_count": 3,
   "metadata": {},
   "outputs": [
    {
     "name": "stdout",
     "output_type": "stream",
     "text": [
      "Vehicles dataload from website: 38.9350001812 seconds \n"
     ]
    }
   ],
   "source": [
    "'''\n",
    "Load Vehicle data - need to download Vehicle file to local Data diectory\n",
    "\n",
    "'''\n",
    "def push_bike_engine(row):\n",
    "    if row['vehicle_type'] == 1: #change push bike default from -1 to 0 engine capacity\n",
    "        return 0\n",
    "    else:\n",
    "        return row['engine_capacity']\n",
    "\n",
    "start_time0 = time.time()\n",
    "\n",
    "#load Vehicles file from url\n",
    "url = 'http://data.dft.gov.uk/road-accidents-safety-data/RoadSafetyData_Vehicles_2015.zip'\n",
    "Vehicles = pd.read_csv(url, compression='zip', sep=',', quotechar='\"', engine = 'python')\n",
    "\n",
    "#Save Vehicle data as a csv and pickle file\n",
    "_ = pick_and_csv(Vehicles, 'Data/', 'Vehicles_2015')\n",
    "\n",
    "print (\"Vehicles dataload from website: %s seconds \" % (time.time() - start_time0))"
   ]
  },
  {
   "cell_type": "code",
   "execution_count": 4,
   "metadata": {},
   "outputs": [
    {
     "name": "stdout",
     "output_type": "stream",
     "text": [
      "Vehicles dataset preparation: 21.3760001659 seconds \n"
     ]
    }
   ],
   "source": [
    "start_time0 = time.time()\n",
    "\n",
    "#load 'Field Load Map' specification\n",
    "pfl = pd.read_csv('Specs/Vehicles_FLM_3.csv', low_memory=False)\n",
    "pc_cols_rename = dict(pfl[['field_name','field_descriptor']].where(pfl['import']=='Y').dropna().values.tolist())\n",
    "pc_cols_drop = pfl['field_name'].where(pfl['import']=='N').dropna().values.tolist()\n",
    "\n",
    "#clean data\n",
    "Vehicles.drop(pc_cols_drop, axis=1, inplace=True) # drop columns based on loaded 'FLM' spec\n",
    "Vehicles.rename(columns=pc_cols_rename, inplace=True) #rename columns to lower case and no spaces based on 'FLM' spec\n",
    "Vehicles.engine_capacity = Vehicles.apply(lambda x: push_bike_engine(x), axis=1) # push bike has 0 enngine capacity\n",
    "Vehicles.astype(np.int, inplace=True, errors='ignore') # make all fields int64 - exception is Accident index.\n",
    "\n",
    "#Save Vehicles format data as a csv and pickle file\n",
    "_ = pick_and_csv(Vehicles, 'Data/', 'Vehicles')\n",
    "    \n",
    "print (\"Vehicles dataset preparation: %s seconds \" % (time.time() - start_time0))"
   ]
  },
  {
   "cell_type": "markdown",
   "metadata": {},
   "source": [
    "## Data assessment"
   ]
  },
  {
   "cell_type": "code",
   "execution_count": 5,
   "metadata": {
    "collapsed": true
   },
   "outputs": [],
   "source": [
    "'''\n",
    "Reload RTA Vehicles dataframe to check properly saved and reloadable\n",
    "'''\n",
    "Vehicles = pd.read_pickle('Data/Vehicles.pickle')"
   ]
  },
  {
   "cell_type": "code",
   "execution_count": 6,
   "metadata": {},
   "outputs": [
    {
     "name": "stdout",
     "output_type": "stream",
     "text": [
      "<class 'pandas.core.frame.DataFrame'>\n",
      "RangeIndex: 257845 entries, 0 to 257844\n",
      "Data columns (total 23 columns):\n",
      "accident_index                      257845 non-null object\n",
      "vehicle_reference                   257845 non-null int64\n",
      "vehicle_type                        257845 non-null int64\n",
      "towing_and_articulation             257845 non-null int64\n",
      "vehicle_manoeuvre                   257845 non-null int64\n",
      "vehicle_location-restricted_lane    257845 non-null int64\n",
      "junction_location                   257845 non-null int64\n",
      "skidding_and_overturning            257845 non-null int64\n",
      "hit_object_in_carriageway           257845 non-null int64\n",
      "vehicle_leaving_carriageway         257845 non-null int64\n",
      "hit_object_off_carriageway          257845 non-null int64\n",
      "first_point_of_impact               257845 non-null int64\n",
      "was_vehicle_left_hand_drive         257845 non-null int64\n",
      "journey_purpose_of_driver           257845 non-null int64\n",
      "sex_of_driver                       257845 non-null int64\n",
      "age_of_driver                       257845 non-null int64\n",
      "age_band_of_driver                  257845 non-null int64\n",
      "engine_capacity                     257845 non-null int64\n",
      "propulsion_code                     257845 non-null int64\n",
      "age_of_vehicle                      257845 non-null int64\n",
      "driver_imd_decile                   257845 non-null int64\n",
      "driver_home_area_type               257845 non-null int64\n",
      "vehicle_imd_decile                  257845 non-null int64\n",
      "dtypes: int64(22), object(1)\n",
      "memory usage: 45.2+ MB\n"
     ]
    }
   ],
   "source": [
    "Vehicles.info()"
   ]
  },
  {
   "cell_type": "code",
   "execution_count": 7,
   "metadata": {},
   "outputs": [
    {
     "data": {
      "text/html": [
       "<div>\n",
       "<style>\n",
       "    .dataframe thead tr:only-child th {\n",
       "        text-align: right;\n",
       "    }\n",
       "\n",
       "    .dataframe thead th {\n",
       "        text-align: left;\n",
       "    }\n",
       "\n",
       "    .dataframe tbody tr th {\n",
       "        vertical-align: top;\n",
       "    }\n",
       "</style>\n",
       "<table border=\"1\" class=\"dataframe\">\n",
       "  <thead>\n",
       "    <tr style=\"text-align: right;\">\n",
       "      <th></th>\n",
       "      <th>accident_index</th>\n",
       "      <th>vehicle_reference</th>\n",
       "      <th>vehicle_type</th>\n",
       "      <th>towing_and_articulation</th>\n",
       "      <th>vehicle_manoeuvre</th>\n",
       "      <th>vehicle_location-restricted_lane</th>\n",
       "      <th>junction_location</th>\n",
       "      <th>skidding_and_overturning</th>\n",
       "      <th>hit_object_in_carriageway</th>\n",
       "      <th>vehicle_leaving_carriageway</th>\n",
       "      <th>...</th>\n",
       "      <th>journey_purpose_of_driver</th>\n",
       "      <th>sex_of_driver</th>\n",
       "      <th>age_of_driver</th>\n",
       "      <th>age_band_of_driver</th>\n",
       "      <th>engine_capacity</th>\n",
       "      <th>propulsion_code</th>\n",
       "      <th>age_of_vehicle</th>\n",
       "      <th>driver_imd_decile</th>\n",
       "      <th>driver_home_area_type</th>\n",
       "      <th>vehicle_imd_decile</th>\n",
       "    </tr>\n",
       "  </thead>\n",
       "  <tbody>\n",
       "    <tr>\n",
       "      <th>0</th>\n",
       "      <td>201506E098757</td>\n",
       "      <td>2</td>\n",
       "      <td>9</td>\n",
       "      <td>0</td>\n",
       "      <td>18</td>\n",
       "      <td>0</td>\n",
       "      <td>8</td>\n",
       "      <td>0</td>\n",
       "      <td>0</td>\n",
       "      <td>0</td>\n",
       "      <td>...</td>\n",
       "      <td>6</td>\n",
       "      <td>1</td>\n",
       "      <td>45</td>\n",
       "      <td>7</td>\n",
       "      <td>1794</td>\n",
       "      <td>1</td>\n",
       "      <td>11</td>\n",
       "      <td>-1</td>\n",
       "      <td>1</td>\n",
       "      <td>-1</td>\n",
       "    </tr>\n",
       "    <tr>\n",
       "      <th>1</th>\n",
       "      <td>201506E098766</td>\n",
       "      <td>1</td>\n",
       "      <td>9</td>\n",
       "      <td>0</td>\n",
       "      <td>9</td>\n",
       "      <td>0</td>\n",
       "      <td>8</td>\n",
       "      <td>0</td>\n",
       "      <td>0</td>\n",
       "      <td>0</td>\n",
       "      <td>...</td>\n",
       "      <td>6</td>\n",
       "      <td>2</td>\n",
       "      <td>25</td>\n",
       "      <td>5</td>\n",
       "      <td>1582</td>\n",
       "      <td>2</td>\n",
       "      <td>1</td>\n",
       "      <td>-1</td>\n",
       "      <td>-1</td>\n",
       "      <td>-1</td>\n",
       "    </tr>\n",
       "  </tbody>\n",
       "</table>\n",
       "<p>2 rows × 23 columns</p>\n",
       "</div>"
      ],
      "text/plain": [
       "  accident_index  vehicle_reference  vehicle_type  towing_and_articulation  \\\n",
       "0  201506E098757                  2             9                        0   \n",
       "1  201506E098766                  1             9                        0   \n",
       "\n",
       "   vehicle_manoeuvre  vehicle_location-restricted_lane  junction_location  \\\n",
       "0                 18                                 0                  8   \n",
       "1                  9                                 0                  8   \n",
       "\n",
       "   skidding_and_overturning  hit_object_in_carriageway  \\\n",
       "0                         0                          0   \n",
       "1                         0                          0   \n",
       "\n",
       "   vehicle_leaving_carriageway         ...          journey_purpose_of_driver  \\\n",
       "0                            0         ...                                  6   \n",
       "1                            0         ...                                  6   \n",
       "\n",
       "   sex_of_driver  age_of_driver  age_band_of_driver  engine_capacity  \\\n",
       "0              1             45                   7             1794   \n",
       "1              2             25                   5             1582   \n",
       "\n",
       "   propulsion_code  age_of_vehicle  driver_imd_decile  driver_home_area_type  \\\n",
       "0                1              11                 -1                      1   \n",
       "1                2               1                 -1                     -1   \n",
       "\n",
       "   vehicle_imd_decile  \n",
       "0                  -1  \n",
       "1                  -1  \n",
       "\n",
       "[2 rows x 23 columns]"
      ]
     },
     "execution_count": 7,
     "metadata": {},
     "output_type": "execute_result"
    }
   ],
   "source": [
    "Vehicles.head(2)"
   ]
  },
  {
   "cell_type": "code",
   "execution_count": 8,
   "metadata": {},
   "outputs": [
    {
     "data": {
      "image/png": "[encoded data removed]",
      "text/plain": [
       "<matplotlib.figure.Figure at 0x93e6e48>"
      ]
     },
     "metadata": {},
     "output_type": "display_data"
    }
   ],
   "source": [
    "'''\n",
    "RTA Vehicles check data fields\n",
    "'''\n",
    "\n",
    "# check data\n",
    "col = 'age_of_vehicle'\n",
    "\n",
    "plt.figure(figsize=(40,10))\n",
    "Vehicles.groupby([col])[col].count().plot(kind='bar',color='b',legend=True)\n",
    "plt.ylabel('count')\n",
    "#plt.axis((0,30,0,17500)) #age of vehicle\n",
    "#plt.axis((0,1000,0,2000)) #engine capacity TBD\n",
    "#plt.axis((5,95,0,7000)) #age of driver TBD\n",
    "\n",
    "plt.savefig('Data/Pics/Vehicle_Bar_'+col+'.png')\n",
    "plt.show()"
   ]
  }
 ],
 "metadata": {
  "kernelspec": {
   "display_name": "Python (GA)",
   "language": "python",
   "name": "ga"
  },
  "language_info": {
   "codemirror_mode": {
    "name": "ipython",
    "version": 2
   },
   "file_extension": ".py",
   "mimetype": "text/x-python",
   "name": "python",
   "nbconvert_exporter": "python",
   "pygments_lexer": "ipython2",
   "version": "2.7.13"
  }
 },
 "nbformat": 4,
 "nbformat_minor": 2
}
