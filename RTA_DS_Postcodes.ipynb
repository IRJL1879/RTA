{
 "cells": [
  {
   "cell_type": "markdown",
   "metadata": {},
   "source": [
    "# Postcode dataset creation\n",
    "\n",
    "### Process Flow :\n",
    "\n",
    "1. load file from Internet and create pickle snapshot in case dataset site off-line \n",
    "2. save postcode data in out-code and in-code formats\n",
    "3. enrich dataset wth coord tuple\n",
    "4. save enriched postcode data for downstream use\n",
    "5. reload preprocessed data and check details\n",
    "\n",
    "### Input data\n",
    "\n",
    "Postcode file(s): from  https://www.freemaptools.com   \n",
    "\n",
    "### Output data\n",
    "\n",
    "* 'Postcodes-in.pickle': snapshot of Postcodes 'in-code' data\n",
    "* 'Postcodes-out.pickle': **Postcodes dataset**\n",
    "* saved data assessment plot (.png) snapshots"
   ]
  },
  {
   "cell_type": "markdown",
   "metadata": {},
   "source": [
    "## Import external libraries"
   ]
  },
  {
   "cell_type": "code",
   "execution_count": 1,
   "metadata": {
    "collapsed": true
   },
   "outputs": [],
   "source": [
    "import time\n",
    "import pandas as pd\n",
    "import matplotlib.pyplot as plt\n",
    "%matplotlib inline"
   ]
  },
  {
   "cell_type": "markdown",
   "metadata": {},
   "source": [
    "## 'Import' RTAutilities"
   ]
  },
  {
   "cell_type": "code",
   "execution_count": 2,
   "metadata": {
    "collapsed": true
   },
   "outputs": [],
   "source": [
    "'''\n",
    "Provide output of csv and pickle formats for DataFrames\n",
    "'''\n",
    "def pick_and_csv(df, path, filename):\n",
    "    import sys\n",
    "    try:\n",
    "        df.to_csv(path + filename + '.csv', index=False)\n",
    "        df.to_pickle(path + filename + '.pickle')\n",
    "    except IOError as (errno, strerror):\n",
    "        print ('I/O error({0}): {1}'.format(errno, strerror))\n",
    "        if errno == 13:\n",
    "            print ('*** check to see if (someone has) file already open ***')\n",
    "        elif errno == 2:\n",
    "            print ('Directory parameter needs to be a valid directory')\n",
    "    except:\n",
    "        print (\"Unexpected error:\", sys.exc_info()[0])\n",
    "        print ('*** is first parameter a DataFrame? ***')\n",
    "        raise"
   ]
  },
  {
   "cell_type": "markdown",
   "metadata": {},
   "source": [
    "## Load Postcode data and create dataset"
   ]
  },
  {
   "cell_type": "code",
   "execution_count": 3,
   "metadata": {},
   "outputs": [
    {
     "name": "stdout",
     "output_type": "stream",
     "text": [
      "Postcode dataset load from website: 41.881000042 seconds \n"
     ]
    }
   ],
   "source": [
    "'''\n",
    "Load and save postcode data in two formats:\n",
    "\n",
    "inc. in-codes: e.g. 'AB10 1XG'\n",
    "Outcodes only: e.g. 'AB10'\n",
    "\n",
    "need to download Vehicle file to local Data diectory\n",
    "'''\n",
    "start_time0 = time.time()\n",
    "\n",
    "#load from url\n",
    "url='https://www.freemaptools.com/download/full-postcodes/ukpostcodes.zip'\n",
    "Postcodes_in = pd.read_csv(url, compression='zip', sep=',', quotechar='\"', engine = 'python')\n",
    "\n",
    "#Save Postcodes_in format data as a csv and pickle file\n",
    "_ = pick_and_csv(Postcodes_in, 'Data/', 'Postcodes_in')\n",
    "\n",
    "#load from url\n",
    "url='https://www.freemaptools.com/download/outcode-postcodes/postcode-outcodes.csv'\n",
    "Postcodes_out = pd.read_csv(url)\n",
    "\n",
    "#Save Postcodes_out format data as a csv and pickle file\n",
    "_ = pick_and_csv(Postcodes_out, 'Data/', 'Postcodes_out')\n",
    "\n",
    "print (\"Postcode dataset load from website: %s seconds \" % (time.time() - start_time0))"
   ]
  },
  {
   "cell_type": "code",
   "execution_count": 4,
   "metadata": {},
   "outputs": [
    {
     "name": "stderr",
     "output_type": "stream",
     "text": [
      "C:\\Users\\Iain\\Anaconda3\\envs\\GA\\lib\\site-packages\\ipykernel\\__main__.py:6: FutureWarning: currently extract(expand=None) means expand=False (return Index/Series/DataFrame) but in a future version of pandas this will be changed to expand=True (return DataFrame)\n"
     ]
    }
   ],
   "source": [
    "'''\n",
    "Load and enrich postcode data with postcode Area and coord tuple\n",
    "'''\n",
    "Postcodes = pd.read_pickle('Data/Postcodes_out.pickle')\n",
    "Postcodes['Post_coord'] = zip(Postcodes['latitude'], Postcodes['longitude'])\n",
    "Postcodes['Areas'] = Postcodes['postcode'].str.extract(r'(\\D+)')\n",
    "Postcodes.to_pickle('Data/Postcodes.pickle')"
   ]
  },
  {
   "cell_type": "markdown",
   "metadata": {},
   "source": [
    "## Data assessment"
   ]
  },
  {
   "cell_type": "code",
   "execution_count": 5,
   "metadata": {
    "collapsed": true
   },
   "outputs": [],
   "source": [
    "'''\n",
    "Reload RTA Postcodes dataframe to check properly saved and reloadable\n",
    "'''\n",
    "Postcodes = pd.read_pickle('Data/Postcodes.pickle')"
   ]
  },
  {
   "cell_type": "code",
   "execution_count": 6,
   "metadata": {},
   "outputs": [
    {
     "name": "stdout",
     "output_type": "stream",
     "text": [
      "<class 'pandas.core.frame.DataFrame'>\n",
      "RangeIndex: 3003 entries, 0 to 3002\n",
      "Data columns (total 6 columns):\n",
      "id            3003 non-null int64\n",
      "postcode      3003 non-null object\n",
      "latitude      3003 non-null float64\n",
      "longitude     3003 non-null float64\n",
      "Post_coord    3003 non-null object\n",
      "Areas         3003 non-null object\n",
      "dtypes: float64(2), int64(1), object(3)\n",
      "memory usage: 140.8+ KB\n"
     ]
    }
   ],
   "source": [
    "Postcodes.info()"
   ]
  },
  {
   "cell_type": "code",
   "execution_count": 7,
   "metadata": {},
   "outputs": [
    {
     "data": {
      "text/html": [
       "<div>\n",
       "<style>\n",
       "    .dataframe thead tr:only-child th {\n",
       "        text-align: right;\n",
       "    }\n",
       "\n",
       "    .dataframe thead th {\n",
       "        text-align: left;\n",
       "    }\n",
       "\n",
       "    .dataframe tbody tr th {\n",
       "        vertical-align: top;\n",
       "    }\n",
       "</style>\n",
       "<table border=\"1\" class=\"dataframe\">\n",
       "  <thead>\n",
       "    <tr style=\"text-align: right;\">\n",
       "      <th></th>\n",
       "      <th>id</th>\n",
       "      <th>postcode</th>\n",
       "      <th>latitude</th>\n",
       "      <th>longitude</th>\n",
       "      <th>Post_coord</th>\n",
       "      <th>Areas</th>\n",
       "    </tr>\n",
       "  </thead>\n",
       "  <tbody>\n",
       "    <tr>\n",
       "      <th>0</th>\n",
       "      <td>2</td>\n",
       "      <td>AB10</td>\n",
       "      <td>57.13514</td>\n",
       "      <td>-2.11731</td>\n",
       "      <td>(57.13514, -2.11731)</td>\n",
       "      <td>AB</td>\n",
       "    </tr>\n",
       "    <tr>\n",
       "      <th>1</th>\n",
       "      <td>3</td>\n",
       "      <td>AB11</td>\n",
       "      <td>57.13875</td>\n",
       "      <td>-2.09089</td>\n",
       "      <td>(57.13875, -2.09089)</td>\n",
       "      <td>AB</td>\n",
       "    </tr>\n",
       "  </tbody>\n",
       "</table>\n",
       "</div>"
      ],
      "text/plain": [
       "   id postcode  latitude  longitude            Post_coord Areas\n",
       "0   2     AB10  57.13514   -2.11731  (57.13514, -2.11731)    AB\n",
       "1   3     AB11  57.13875   -2.09089  (57.13875, -2.09089)    AB"
      ]
     },
     "execution_count": 7,
     "metadata": {},
     "output_type": "execute_result"
    }
   ],
   "source": [
    "Postcodes.head(2)"
   ]
  },
  {
   "cell_type": "code",
   "execution_count": 8,
   "metadata": {},
   "outputs": [
    {
     "data": {
      "image/png": "[encoded data removed]",
      "text/plain": [
       "<matplotlib.figure.Figure at 0x310396a0>"
      ]
     },
     "metadata": {},
     "output_type": "display_data"
    }
   ],
   "source": [
    "'''\n",
    "RTA Postcodes check data fields\n",
    "'''\n",
    "# check data\n",
    "col = 'Areas'\n",
    "\n",
    "plt.figure(figsize=(20,10))\n",
    "Postcodes.groupby([col])[col].count().plot(kind='bar',color='y',legend=True)\n",
    "plt.ylabel('count')\n",
    "plt.savefig('Data/Pics/postcode_Bar_'+col+'.png')\n",
    "plt.show()"
   ]
  }
 ],
 "metadata": {
  "kernelspec": {
   "display_name": "Python (GA)",
   "language": "python",
   "name": "ga"
  },
  "language_info": {
   "codemirror_mode": {
    "name": "ipython",
    "version": 2
   },
   "file_extension": ".py",
   "mimetype": "text/x-python",
   "name": "python",
   "nbconvert_exporter": "python",
   "pygments_lexer": "ipython2",
   "version": "2.7.13"
  }
 },
 "nbformat": 4,
 "nbformat_minor": 2
}
