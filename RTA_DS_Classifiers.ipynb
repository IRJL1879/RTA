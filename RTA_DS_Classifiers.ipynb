{
 "cells": [
  {
   "cell_type": "markdown",
   "metadata": {},
   "source": [
    "# Classifier dataset preparation"
   ]
  },
  {
   "cell_type": "markdown",
   "metadata": {},
   "source": [
    "### Process Flow :\n",
    "\n",
    "1. load relevant merged dataset  \n",
    "2. create Ordinal, binary and Accident Severity (AS) datasets\n",
    "3. create pickle snapshots of datasets file for downstream use  \n",
    "4. reload preprocessed data and check details\n",
    "\n",
    "### Input data\n",
    "\n",
    "**Merged dataset**: from RTA_DS_merged\n",
    "\n",
    "### Output data\n",
    "\n",
    "* 'RTA_ordinal_dataset.pickle':  **ordinal dataset**  \n",
    "* 'RTA_binary_dataset.pickle':  **binary dataset**  \n",
    "* 'RTA_AS_dataset.pickle':  **AS dataset**  \n",
    "* saved data assessment plot (.png) snapshots: (correlation heatmaps)"
   ]
  },
  {
   "cell_type": "markdown",
   "metadata": {},
   "source": [
    "## Import external libraries"
   ]
  },
  {
   "cell_type": "code",
   "execution_count": 1,
   "metadata": {
    "collapsed": true
   },
   "outputs": [],
   "source": [
    "'''\n",
    "RTA Classifier required imports\n",
    "'''\n",
    "import pandas as pd\n",
    "import numpy as np\n",
    "import matplotlib.pyplot as plt\n",
    "import time\n",
    "%matplotlib inline"
   ]
  },
  {
   "cell_type": "markdown",
   "metadata": {},
   "source": [
    "## 'Import' RTAutilities"
   ]
  },
  {
   "cell_type": "code",
   "execution_count": 2,
   "metadata": {
    "collapsed": true
   },
   "outputs": [],
   "source": [
    "'''\n",
    "Provide output of csv and pickle formats for DataFrames\n",
    "'''\n",
    "def pick_and_csv(df, path, filename):\n",
    "    import sys\n",
    "    try:\n",
    "        df.to_csv(path + filename + '.csv', index=False)\n",
    "        df.to_pickle(path + filename + '.pickle')\n",
    "    except IOError as (errno, strerror):\n",
    "        print ('I/O error({0}): {1}'.format(errno, strerror))\n",
    "        if errno == 13:\n",
    "            print ('*** check to see if (someone has) file already open ***')\n",
    "        elif errno == 2:\n",
    "            print ('Directory parameter needs to be a valid directory')\n",
    "    except:\n",
    "        print (\"Unexpected error:\", sys.exc_info()[0])\n",
    "        print ('*** is first parameter a DataFrame? ***')\n",
    "        raise"
   ]
  },
  {
   "cell_type": "code",
   "execution_count": 3,
   "metadata": {
    "collapsed": true
   },
   "outputs": [],
   "source": [
    "def plot_correlation(df_DS, DS_name):\n",
    "    import seaborn\n",
    "\n",
    "    corr_features = pd.DataFrame(df_DS.corr(method='pearson'))\n",
    "    '''\n",
    "    Code taken from: \n",
    "    '''\n",
    "    # Create a mask to display only the lower triangle of the matrix (since it's mirrored around its \n",
    "    # top-left to bottom-right diagonal).\n",
    "    fig, ax = plt.subplots(figsize=(25,25))\n",
    "    mask = np.zeros_like(corr_features)\n",
    "    mask[np.triu_indices_from(mask)] = True\n",
    "    \n",
    "    # Create the heatmap using seaborn library. \n",
    "    # List if colormaps (parameter 'cmap') is available here: http://matplotlib.org/examples/color/colormaps_reference.html\n",
    "    seaborn.heatmap(corr_features, cmap='RdYlGn_r', vmax=1.0, mask=mask, vmin=-1.0 , linewidths=2.5)\n",
    "    \n",
    "    # Show the plot we reorient the labels for each column and row to make them easier to read.\n",
    "    plt.tick_params(axis='both', which='major', labelsize=18)\n",
    "    plt.yticks(rotation=0) \n",
    "    plt.xticks(rotation=90)\n",
    "    plt.savefig('Data/Pics/RTA_' + DS_name + '_heatmap.png', dpi=199)\n",
    "    plt.show()"
   ]
  },
  {
   "cell_type": "markdown",
   "metadata": {},
   "source": [
    "## Choose dataframe source"
   ]
  },
  {
   "cell_type": "code",
   "execution_count": 4,
   "metadata": {},
   "outputs": [
    {
     "name": "stdout",
     "output_type": "stream",
     "text": [
      "<class 'pandas.core.frame.DataFrame'>\n",
      "Int64Index: 162781 entries, 2 to 257791\n",
      "Data columns (total 57 columns):\n",
      "accident_index                                 162781 non-null object\n",
      "location_easting_osgr                          162781 non-null float64\n",
      "location_northing_osgr                         162781 non-null float64\n",
      "longitude                                      162781 non-null float64\n",
      "latitude                                       162781 non-null float64\n",
      "police_force                                   162781 non-null float64\n",
      "accident_severity                              162781 non-null float64\n",
      "number_of_vehicles                             162781 non-null float64\n",
      "number_of_casualties                           162781 non-null float64\n",
      "date                                           162781 non-null object\n",
      "day_of_week                                    162781 non-null float64\n",
      "time                                           162764 non-null object\n",
      "local_authority_(district)                     162781 non-null float64\n",
      "local_authority_(highway)                      162781 non-null object\n",
      "first_road_class                               162781 non-null float64\n",
      "first_road_number                              162781 non-null float64\n",
      "road_type                                      162781 non-null float64\n",
      "speed_limit                                    162781 non-null float64\n",
      "junction_detail                                162781 non-null float64\n",
      "junction_control                               162781 non-null float64\n",
      "second_road_class                              162781 non-null float64\n",
      "second_road_number                             162781 non-null float64\n",
      "pedestrian_crossing-human_control              162781 non-null float64\n",
      "pedestrian_crossing-physical_facilities        162781 non-null float64\n",
      "light_conditions                               162781 non-null float64\n",
      "weather_conditions                             162781 non-null float64\n",
      "road_surface_conditions                        162781 non-null float64\n",
      "special_conditions_at_site                     162781 non-null float64\n",
      "carriageway_hazards                            162781 non-null float64\n",
      "urban_or_rural_area                            162781 non-null float64\n",
      "did_police_officer_attend_scene_of_accident    162781 non-null float64\n",
      "lsoa_of_accident_location                      151559 non-null object\n",
      "Acc_coord                                      162781 non-null object\n",
      "Postcode                                       162781 non-null object\n",
      "Areas                                          162781 non-null object\n",
      "vehicle_reference                              162781 non-null int64\n",
      "vehicle_type                                   162781 non-null int64\n",
      "towing_and_articulation                        162781 non-null int64\n",
      "vehicle_manoeuvre                              162781 non-null int64\n",
      "vehicle_location-restricted_lane               162781 non-null int64\n",
      "junction_location                              162781 non-null int64\n",
      "skidding_and_overturning                       162781 non-null int64\n",
      "hit_object_in_carriageway                      162781 non-null int64\n",
      "vehicle_leaving_carriageway                    162781 non-null int64\n",
      "hit_object_off_carriageway                     162781 non-null int64\n",
      "first_point_of_impact                          162781 non-null int64\n",
      "was_vehicle_left_hand_drive                    162781 non-null int64\n",
      "journey_purpose_of_driver                      162781 non-null int64\n",
      "sex_of_driver                                  162781 non-null int64\n",
      "age_of_driver                                  162781 non-null int64\n",
      "age_band_of_driver                             162781 non-null int64\n",
      "engine_capacity                                162781 non-null int64\n",
      "propulsion_code                                162781 non-null int64\n",
      "age_of_vehicle                                 162781 non-null int64\n",
      "driver_imd_decile                              162781 non-null int64\n",
      "driver_home_area_type                          162781 non-null int64\n",
      "vehicle_imd_decile                             162781 non-null int64\n",
      "dtypes: float64(27), int64(22), object(8)\n",
      "memory usage: 72.0+ MB\n"
     ]
    }
   ],
   "source": [
    "'''\n",
    "Create Features DataFrame Source and filter\n",
    "'''\n",
    "# load data from pickle file\n",
    "df_RTA = pd.read_pickle('Data/RTA_filtered.pickle')\n",
    "df_RTA = df_RTA[df_RTA.accident_severity.notnull()]\n",
    "df_RTA.info()"
   ]
  },
  {
   "cell_type": "markdown",
   "metadata": {},
   "source": [
    "## 1. Create Ordinal dataset"
   ]
  },
  {
   "cell_type": "code",
   "execution_count": 5,
   "metadata": {
    "collapsed": true
   },
   "outputs": [],
   "source": [
    "'''\n",
    "Create Ordinal Dataset\n",
    "'''\n",
    "DS_name = 'ordinal'"
   ]
  },
  {
   "cell_type": "code",
   "execution_count": 6,
   "metadata": {
    "collapsed": true
   },
   "outputs": [],
   "source": [
    "df_DS = df_RTA[[\n",
    "    #Accident features\n",
    "    'accident_severity', 'first_road_class', 'day_of_week',  'junction_detail',\n",
    "    'road_surface_conditions', 'light_conditions',\n",
    "    # \n",
    "    #Vehicle features\n",
    "    'vehicle_type', 'sex_of_driver',  'age_of_driver', 'age_of_vehicle', 'vehicle_manoeuvre' \n",
    "]]\n",
    "\n",
    "df_DS = df_DS.astype(np.int64, errors='ignore')\n",
    "df_DS = df_DS.reset_index()\n",
    "df_DS = df_DS.drop(['index'], axis=1)"
   ]
  },
  {
   "cell_type": "code",
   "execution_count": 7,
   "metadata": {},
   "outputs": [
    {
     "name": "stdout",
     "output_type": "stream",
     "text": [
      "<class 'pandas.core.frame.DataFrame'>\n",
      "RangeIndex: 162781 entries, 0 to 162780\n",
      "Data columns (total 11 columns):\n",
      "accident_severity          162781 non-null int64\n",
      "first_road_class           162781 non-null int64\n",
      "day_of_week                162781 non-null int64\n",
      "junction_detail            162781 non-null int64\n",
      "road_surface_conditions    162781 non-null int64\n",
      "light_conditions           162781 non-null int64\n",
      "vehicle_type               162781 non-null int64\n",
      "sex_of_driver              162781 non-null int64\n",
      "age_of_driver              162781 non-null int64\n",
      "age_of_vehicle             162781 non-null int64\n",
      "vehicle_manoeuvre          162781 non-null int64\n",
      "dtypes: int64(11)\n",
      "memory usage: 13.7 MB\n"
     ]
    }
   ],
   "source": [
    "_ = pick_and_csv(df_DS, 'Data/', 'RTA_' + DS_name + '_dataset')\n",
    "df_DS.info()"
   ]
  },
  {
   "cell_type": "markdown",
   "metadata": {},
   "source": [
    "## 2. Create Binary dataset"
   ]
  },
  {
   "cell_type": "code",
   "execution_count": 8,
   "metadata": {
    "collapsed": true
   },
   "outputs": [],
   "source": [
    "'''\n",
    "Create Binary Dataset\n",
    "takes up to 5 mins to process\n",
    "'''\n",
    "DS_name = 'binary'\n",
    "start_time_binary = time.time()\n",
    "df_DS = pd.DataFrame([])"
   ]
  },
  {
   "cell_type": "code",
   "execution_count": 9,
   "metadata": {},
   "outputs": [
    {
     "data": {
      "text/plain": [
       "'\\nformat, save and show execution time\\n'"
      ]
     },
     "execution_count": 9,
     "metadata": {},
     "output_type": "execute_result"
    }
   ],
   "source": [
    "'''\n",
    "lambda function call\n",
    "'''\n",
    "def add_feature (row, col, *args):\n",
    "    for arg in args:\n",
    "        if row[col] in [arg]:\n",
    "            return 1\n",
    "    return 0\n",
    "\n",
    "'''\n",
    "Accident features\n",
    "'''\n",
    "df_DS['accident_severity'] = df_RTA['accident_severity']\n",
    "df_DS['Motorway'] = df_RTA.apply(lambda row: add_feature(row, 'first_road_class', 1,2), axis=1)\n",
    "df_DS['A_road'] = df_RTA.apply(lambda row: add_feature(row, 'first_road_class', 3), axis=1)\n",
    "df_DS['B_road'] = df_RTA.apply(lambda row: add_feature(row, 'first_road_class', 4), axis=1)\n",
    "df_DS['C_road'] = df_RTA.apply(lambda row: add_feature(row, 'first_road_class', 5), axis=1)\n",
    "##df_DS['U_road'] = df_RTA.apply(lambda row: add_feature(row, 'first_road_class', 6), axis=1)\n",
    "df_DS['Sun'] = df_RTA.apply(lambda row: add_feature(row, 'day_of_week', 1), axis=1)\n",
    "df_DS['Mon'] = df_RTA.apply(lambda row: add_feature(row, 'day_of_week', 2), axis=1)\n",
    "df_DS['Tue'] = df_RTA.apply(lambda row: add_feature(row, 'day_of_week', 3), axis=1)\n",
    "df_DS['Wed'] = df_RTA.apply(lambda row: add_feature(row, 'day_of_week', 4), axis=1)\n",
    "df_DS['Thu'] = df_RTA.apply(lambda row: add_feature(row, 'day_of_week', 5), axis=1)\n",
    "df_DS['Fri'] = df_RTA.apply(lambda row: add_feature(row, 'day_of_week', 6), axis=1)\n",
    "df_DS['Sat'] = df_RTA.apply(lambda row: add_feature(row, 'day_of_week', 7), axis=1)\n",
    "df_DS['sl_20'] = df_RTA.apply(lambda row: add_feature(row, 'speed_limit', 0,10,20), axis=1)\n",
    "df_DS['sl_30'] = df_RTA.apply(lambda row: add_feature(row, 'speed_limit', 30), axis=1)\n",
    "df_DS['sl_40'] = df_RTA.apply(lambda row: add_feature(row, 'speed_limit', 40), axis=1)\n",
    "df_DS['sl_50'] = df_RTA.apply(lambda row: add_feature(row, 'speed_limit', 50), axis=1)\n",
    "df_DS['sl_60'] = df_RTA.apply(lambda row: add_feature(row, 'speed_limit', 60), axis=1)\n",
    "##df_DS['sl_70'] = df_RTA.apply(lambda row: add_feature(row, 'speed_limit', 70), axis=1)\n",
    "df_DS['Junction'] = df_RTA.apply(lambda row: add_feature(row, 'junction_detail',1,2,3,5,6,7,8,9), axis=1)\n",
    "df_DS['rsurface'] = df_RTA.apply(lambda row: add_feature(row, 'road_surface_conditions', 1), axis=1)\n",
    "df_DS['light'] = df_RTA.apply(lambda row: add_feature(row, 'light_conditions', 1,2), axis=1)\n",
    "\n",
    "'''\n",
    "Vehicle features\n",
    "'''\n",
    "df_DS['v_car'] = df_RTA.apply(lambda row: add_feature(row, 'vehicle_type', 8,9), axis=1)\n",
    "df_DS['v_mbike'] = df_RTA.apply(lambda row: add_feature(row, 'vehicle_type',2,3,4,5,23,97), axis=1)\n",
    "#df_DS['v_pbike'] = df_RTA.apply(lambda row: add_feature(row, 'vehicle_type',1), axis=1)\n",
    "df_DS['v_goods'] = df_RTA.apply(lambda row: add_feature(row, 'vehicle_type',19,20,21,98), axis=1)\n",
    "df_DS['v_other'] = df_RTA.apply(lambda row: add_feature(row, 'vehicle_type',0,11,16,17,18,22,90,-1), axis=1)\n",
    "df_DS['v_dmale'] = df_RTA.apply(lambda row: add_feature(row, 'sex_of_driver', 1), axis=1)\n",
    "#df_DS['v_dfema'] = df_RTA.apply(lambda row: add_feature(row, 'sex_of_driver', 2), axis=1)\n",
    "df_DS['v_dothr'] = df_RTA.apply(lambda row: add_feature(row, 'sex_of_driver', 3), axis=1)\n",
    "df_DS['v_engcc'] = df_RTA['engine_capacity']\n",
    "df_DS['v_dage'] = df_RTA['age_of_driver']\n",
    "df_DS['v_age'] = df_RTA['age_of_vehicle']\n",
    "#df_DS['v_count'] = df_RTA['number_of_vehicles']\n",
    "#df_DS['c_count'] = df_RTA['number_of_casualties']\n",
    "##df_DS['splimit'] = df_RTA['speed_limit']\n",
    "\n",
    "'''\n",
    "format, save and show execution time\n",
    "'''"
   ]
  },
  {
   "cell_type": "code",
   "execution_count": 10,
   "metadata": {},
   "outputs": [
    {
     "name": "stdout",
     "output_type": "stream",
     "text": [
      "Binary Dataset Load: 113.680000067 seconds \n"
     ]
    }
   ],
   "source": [
    "df_DS = df_DS.astype(np.int64, errors='ignore')\n",
    "df_DS = df_DS.reset_index()\n",
    "df_DS = df_DS.drop(['index'], axis=1)\n",
    "_ = pick_and_csv(df_DS, 'Data/', 'RTA_' + DS_name + '_dataset')\n",
    "\n",
    "print \"Binary Dataset Load: %s seconds \" % (time.time() - start_time_binary)"
   ]
  },
  {
   "cell_type": "code",
   "execution_count": 11,
   "metadata": {},
   "outputs": [
    {
     "name": "stdout",
     "output_type": "stream",
     "text": [
      "<class 'pandas.core.frame.DataFrame'>\n",
      "RangeIndex: 162781 entries, 0 to 162780\n",
      "Data columns (total 29 columns):\n",
      "accident_severity    162781 non-null int64\n",
      "Motorway             162781 non-null int64\n",
      "A_road               162781 non-null int64\n",
      "B_road               162781 non-null int64\n",
      "C_road               162781 non-null int64\n",
      "Sun                  162781 non-null int64\n",
      "Mon                  162781 non-null int64\n",
      "Tue                  162781 non-null int64\n",
      "Wed                  162781 non-null int64\n",
      "Thu                  162781 non-null int64\n",
      "Fri                  162781 non-null int64\n",
      "Sat                  162781 non-null int64\n",
      "sl_20                162781 non-null int64\n",
      "sl_30                162781 non-null int64\n",
      "sl_40                162781 non-null int64\n",
      "sl_50                162781 non-null int64\n",
      "sl_60                162781 non-null int64\n",
      "Junction             162781 non-null int64\n",
      "rsurface             162781 non-null int64\n",
      "light                162781 non-null int64\n",
      "v_car                162781 non-null int64\n",
      "v_mbike              162781 non-null int64\n",
      "v_goods              162781 non-null int64\n",
      "v_other              162781 non-null int64\n",
      "v_dmale              162781 non-null int64\n",
      "v_dothr              162781 non-null int64\n",
      "v_engcc              162781 non-null int64\n",
      "v_dage               162781 non-null int64\n",
      "v_age                162781 non-null int64\n",
      "dtypes: int64(29)\n",
      "memory usage: 36.0 MB\n"
     ]
    }
   ],
   "source": [
    "_ = pick_and_csv(df_DS, 'Data/', 'RTA_' + DS_name + '_dataset')\n",
    "df_DS.info()"
   ]
  },
  {
   "cell_type": "markdown",
   "metadata": {},
   "source": [
    "## 3. Create Accident Severity (AS) dataset"
   ]
  },
  {
   "cell_type": "code",
   "execution_count": 12,
   "metadata": {
    "collapsed": true
   },
   "outputs": [],
   "source": [
    "'''\n",
    "Create Accident Severity Dataset\n",
    "requires Binary dataset as input\n",
    "'''\n",
    "DS_name = 'ordinal'"
   ]
  },
  {
   "cell_type": "code",
   "execution_count": 13,
   "metadata": {
    "collapsed": true
   },
   "outputs": [],
   "source": [
    "df_DS = pd.read_pickle('Data/RTA_binary_dataset.pickle')\n",
    "df_DS = df_DS.drop(['v_dage','v_age','v_engcc','v_mbike'], axis=1)"
   ]
  },
  {
   "cell_type": "code",
   "execution_count": 14,
   "metadata": {},
   "outputs": [
    {
     "name": "stdout",
     "output_type": "stream",
     "text": [
      "<class 'pandas.core.frame.DataFrame'>\n",
      "RangeIndex: 162781 entries, 0 to 162780\n",
      "Data columns (total 25 columns):\n",
      "accident_severity    162781 non-null int64\n",
      "Motorway             162781 non-null int64\n",
      "A_road               162781 non-null int64\n",
      "B_road               162781 non-null int64\n",
      "C_road               162781 non-null int64\n",
      "Sun                  162781 non-null int64\n",
      "Mon                  162781 non-null int64\n",
      "Tue                  162781 non-null int64\n",
      "Wed                  162781 non-null int64\n",
      "Thu                  162781 non-null int64\n",
      "Fri                  162781 non-null int64\n",
      "Sat                  162781 non-null int64\n",
      "sl_20                162781 non-null int64\n",
      "sl_30                162781 non-null int64\n",
      "sl_40                162781 non-null int64\n",
      "sl_50                162781 non-null int64\n",
      "sl_60                162781 non-null int64\n",
      "Junction             162781 non-null int64\n",
      "rsurface             162781 non-null int64\n",
      "light                162781 non-null int64\n",
      "v_car                162781 non-null int64\n",
      "v_goods              162781 non-null int64\n",
      "v_other              162781 non-null int64\n",
      "v_dmale              162781 non-null int64\n",
      "v_dothr              162781 non-null int64\n",
      "dtypes: int64(25)\n",
      "memory usage: 31.0 MB\n"
     ]
    }
   ],
   "source": [
    "_ = pick_and_csv(df_DS, 'Data/', 'RTA_' + DS_name + '_dataset')\n",
    "df_DS.info()"
   ]
  },
  {
   "cell_type": "markdown",
   "metadata": {},
   "source": [
    "### Data assessment"
   ]
  },
  {
   "cell_type": "code",
   "execution_count": 15,
   "metadata": {},
   "outputs": [
    {
     "data": {
      "text/html": [
       "<div>\n",
       "<style>\n",
       "    .dataframe thead tr:only-child th {\n",
       "        text-align: right;\n",
       "    }\n",
       "\n",
       "    .dataframe thead th {\n",
       "        text-align: left;\n",
       "    }\n",
       "\n",
       "    .dataframe tbody tr th {\n",
       "        vertical-align: top;\n",
       "    }\n",
       "</style>\n",
       "<table border=\"1\" class=\"dataframe\">\n",
       "  <thead>\n",
       "    <tr style=\"text-align: right;\">\n",
       "      <th></th>\n",
       "      <th>accident_severity</th>\n",
       "      <th>Motorway</th>\n",
       "      <th>A_road</th>\n",
       "      <th>B_road</th>\n",
       "      <th>C_road</th>\n",
       "      <th>Sun</th>\n",
       "      <th>Mon</th>\n",
       "      <th>Tue</th>\n",
       "      <th>Wed</th>\n",
       "      <th>Thu</th>\n",
       "      <th>...</th>\n",
       "      <th>sl_50</th>\n",
       "      <th>sl_60</th>\n",
       "      <th>Junction</th>\n",
       "      <th>rsurface</th>\n",
       "      <th>light</th>\n",
       "      <th>v_car</th>\n",
       "      <th>v_goods</th>\n",
       "      <th>v_other</th>\n",
       "      <th>v_dmale</th>\n",
       "      <th>v_dothr</th>\n",
       "    </tr>\n",
       "  </thead>\n",
       "  <tbody>\n",
       "    <tr>\n",
       "      <th>0</th>\n",
       "      <td>3</td>\n",
       "      <td>0</td>\n",
       "      <td>0</td>\n",
       "      <td>1</td>\n",
       "      <td>0</td>\n",
       "      <td>0</td>\n",
       "      <td>1</td>\n",
       "      <td>0</td>\n",
       "      <td>0</td>\n",
       "      <td>0</td>\n",
       "      <td>...</td>\n",
       "      <td>0</td>\n",
       "      <td>0</td>\n",
       "      <td>1</td>\n",
       "      <td>0</td>\n",
       "      <td>0</td>\n",
       "      <td>1</td>\n",
       "      <td>0</td>\n",
       "      <td>0</td>\n",
       "      <td>1</td>\n",
       "      <td>0</td>\n",
       "    </tr>\n",
       "    <tr>\n",
       "      <th>1</th>\n",
       "      <td>3</td>\n",
       "      <td>0</td>\n",
       "      <td>1</td>\n",
       "      <td>0</td>\n",
       "      <td>0</td>\n",
       "      <td>0</td>\n",
       "      <td>0</td>\n",
       "      <td>0</td>\n",
       "      <td>0</td>\n",
       "      <td>1</td>\n",
       "      <td>...</td>\n",
       "      <td>0</td>\n",
       "      <td>0</td>\n",
       "      <td>1</td>\n",
       "      <td>0</td>\n",
       "      <td>1</td>\n",
       "      <td>0</td>\n",
       "      <td>0</td>\n",
       "      <td>0</td>\n",
       "      <td>1</td>\n",
       "      <td>0</td>\n",
       "    </tr>\n",
       "    <tr>\n",
       "      <th>2</th>\n",
       "      <td>3</td>\n",
       "      <td>0</td>\n",
       "      <td>1</td>\n",
       "      <td>0</td>\n",
       "      <td>0</td>\n",
       "      <td>0</td>\n",
       "      <td>0</td>\n",
       "      <td>0</td>\n",
       "      <td>0</td>\n",
       "      <td>1</td>\n",
       "      <td>...</td>\n",
       "      <td>0</td>\n",
       "      <td>0</td>\n",
       "      <td>1</td>\n",
       "      <td>0</td>\n",
       "      <td>1</td>\n",
       "      <td>0</td>\n",
       "      <td>1</td>\n",
       "      <td>0</td>\n",
       "      <td>1</td>\n",
       "      <td>0</td>\n",
       "    </tr>\n",
       "  </tbody>\n",
       "</table>\n",
       "<p>3 rows × 25 columns</p>\n",
       "</div>"
      ],
      "text/plain": [
       "   accident_severity  Motorway  A_road  B_road  C_road  Sun  Mon  Tue  Wed  \\\n",
       "0                  3         0       0       1       0    0    1    0    0   \n",
       "1                  3         0       1       0       0    0    0    0    0   \n",
       "2                  3         0       1       0       0    0    0    0    0   \n",
       "\n",
       "   Thu   ...     sl_50  sl_60  Junction  rsurface  light  v_car  v_goods  \\\n",
       "0    0   ...         0      0         1         0      0      1        0   \n",
       "1    1   ...         0      0         1         0      1      0        0   \n",
       "2    1   ...         0      0         1         0      1      0        1   \n",
       "\n",
       "   v_other  v_dmale  v_dothr  \n",
       "0        0        1        0  \n",
       "1        0        1        0  \n",
       "2        0        1        0  \n",
       "\n",
       "[3 rows x 25 columns]"
      ]
     },
     "execution_count": 15,
     "metadata": {},
     "output_type": "execute_result"
    }
   ],
   "source": [
    "#Options for DS_name are 'ordinal', 'binary', 'AS'\n",
    "\n",
    "DS_name = 'ordinal'\n",
    "df_DS = pd.read_pickle('Data/RTA_' + DS_name + '_dataset.pickle')\n",
    "df_DS.head(3)"
   ]
  },
  {
   "cell_type": "code",
   "execution_count": 16,
   "metadata": {
    "scrolled": true
   },
   "outputs": [
    {
     "data": {
      "image/png": "[encoded data removed]",
      "text/plain": [
       "<matplotlib.figure.Figure at 0x262464e0>"
      ]
     },
     "metadata": {},
     "output_type": "display_data"
    }
   ],
   "source": [
    "plot_correlation(df_DS, DS_name)"
   ]
  },
  {
   "cell_type": "code",
   "execution_count": null,
   "metadata": {
    "collapsed": true
   },
   "outputs": [],
   "source": []
  }
 ],
 "metadata": {
  "kernelspec": {
   "display_name": "Python (GA)",
   "language": "python",
   "name": "ga"
  },
  "language_info": {
   "codemirror_mode": {
    "name": "ipython",
    "version": 2
   },
   "file_extension": ".py",
   "mimetype": "text/x-python",
   "name": "python",
   "nbconvert_exporter": "python",
   "pygments_lexer": "ipython2",
   "version": "2.7.13"
  }
 },
 "nbformat": 4,
 "nbformat_minor": 2
}
