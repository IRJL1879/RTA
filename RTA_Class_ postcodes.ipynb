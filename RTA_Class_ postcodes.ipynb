{
 "cells": [
  {
   "cell_type": "markdown",
   "metadata": {},
   "source": [
    "# Postcode data Preprocessing (not currently used!)"
   ]
  },
  {
   "cell_type": "markdown",
   "metadata": {},
   "source": [
    "### The following sources have been used:\n",
    "\n",
    "Postcode data: "
   ]
  },
  {
   "cell_type": "code",
   "execution_count": 1,
   "metadata": {
    "collapsed": false
   },
   "outputs": [
    {
     "name": "stdout",
     "output_type": "stream",
     "text": [
      "C:\\GA\\RTA\n",
      "Postcode dataload: 73.0179998875 seconds \n"
     ]
    }
   ],
   "source": [
    "'''\n",
    "RTA Postcode file creation\n",
    "\n",
    "'''\n",
    "\n",
    "import pandas as pd\n",
    "import glob\n",
    "import os\n",
    "import time\n",
    "\n",
    "print (os.getcwd())\n",
    "\n",
    "start_time0 = time.time()\n",
    "csv_loader = 'Specs/postcode_FLM.csv'\n",
    "csv_files = 'Data/Postcodes/*.csv'\n",
    "csv_out = 'Data/postcodes_all.csv'\n",
    "\n",
    "#load field name mapper\n",
    "pfl = pd.read_csv(csv_loader, low_memory=False)\n",
    "pc_cols_rename = dict(pfl[['field_name','field_descriptor']].where(pfl['import']=='Y').dropna().values.tolist())\n",
    "pc_cols_drop = pfl['field_name'].where(pfl['import']=='N').dropna().values.tolist()\n",
    "\n",
    "#load and concaternate all postcode csv files\n",
    "csv_files = glob.glob(csv_files)\n",
    "frames = []\n",
    "for csv_in in csv_files:\n",
    "    df = pd.read_csv(csv_in, low_memory=False)\n",
    "    frames.append(df)\n",
    "postcodes = pd.concat(frames)\n",
    "\n",
    "#clean up data\n",
    "postcodes.drop(pc_cols_drop, axis=1, inplace=True)\n",
    "postcodes.rename(columns=pc_cols_rename, inplace=True)\n",
    "###postcodes.drop_duplicates()\n",
    "###postcodes.info()\n",
    "\n",
    "#save for later\n",
    "try:\n",
    "    postcodes.to_csv(csv_out, index=False)\n",
    "except IOError as (errno, strerror):\n",
    "    print 'I/O error({0}): {1}'.format(errno, strerror)\n",
    "    if errno == 13:\n",
    "        print '*** check to see if (someone has) file already open ***'\n",
    "except:\n",
    "    print \"Unexpected error:\", sys.exc_info()[0]\n",
    "    raise\n",
    "\n",
    "print \"Postcode dataload: %s seconds \" % (time.time() - start_time0)"
   ]
  },
  {
   "cell_type": "code",
   "execution_count": 2,
   "metadata": {
    "collapsed": false
   },
   "outputs": [],
   "source": [
    "'''\n",
    "RTA Postcode file loader\n",
    "\n",
    "'''\n",
    "import pandas as pd\n",
    "import glob\n",
    "import os\n",
    "import time\n",
    "\n",
    "csv_in = '../Road_safety/postcodes_all.csv'\n",
    "\n",
    "postcodes = pd.read_csv(csv_in, low_memory=False)\n"
   ]
  },
  {
   "cell_type": "code",
   "execution_count": 3,
   "metadata": {
    "collapsed": false
   },
   "outputs": [
    {
     "name": "stdout",
     "output_type": "stream",
     "text": [
      "<class 'pandas.core.frame.DataFrame'>\n",
      "RangeIndex: 2593612 entries, 0 to 2593611\n",
      "Data columns (total 21 columns):\n",
      "postcode                         object\n",
      "Date_of_introduction             int64\n",
      "Date_of_termination              float64\n",
      "County                           object\n",
      "Local_authority_district         object\n",
      "ward/division                    object\n",
      "Postcode_user_type               int64\n",
      "National_grid_Easting            float64\n",
      "National_grid_Northing           float64\n",
      "Grid_quality_indicator           int64\n",
      "Country                          object\n",
      "Statistical_Region               object\n",
      "Travel_to_Work_Area              object\n",
      "Census_Area_Statistics_ward      object\n",
      "National_park                    object\n",
      "Built-up_Area                    object\n",
      "Built-up_Area_Sub-division       object\n",
      "latitude                         float64\n",
      "longitude                        float64\n",
      "Police_Force_Area                object\n",
      "Index_of_Multiple_Deprivation    int64\n",
      "dtypes: float64(5), int64(4), object(12)\n",
      "memory usage: 415.5+ MB\n",
      "None\n"
     ]
    },
    {
     "data": {
      "image/png": "[encoded data removed]",
      "text/plain": [
       "<matplotlib.figure.Figure at 0x9d887400>"
      ]
     },
     "metadata": {},
     "output_type": "display_data"
    }
   ],
   "source": [
    "'''\n",
    "RTA Postcode check data\n",
    "\n",
    "'''\n",
    "import matplotlib.pyplot as plt\n",
    "%matplotlib inline\n",
    "\n",
    "print(postcodes.info())\n",
    "col = 'Statistical_Region'\n",
    "postcodes.groupby([col])[col].count().plot(kind='bar')\n",
    "plt.show()"
   ]
  },
  {
   "cell_type": "code",
   "execution_count": 4,
   "metadata": {
    "collapsed": false
   },
   "outputs": [
    {
     "name": "stdout",
     "output_type": "stream",
     "text": [
      "        postcode  Date_of_introduction  Date_of_termination     County  \\\n",
      "2441890  W8  7EJ                198001                  NaN  E99999999   \n",
      "\n",
      "        Local_authority_district ward/division  Postcode_user_type  \\\n",
      "2441890                E09000020     E05009390                   0   \n",
      "\n",
      "         National_grid_Easting  National_grid_Northing  \\\n",
      "2441890               525130.0                180069.0   \n",
      "\n",
      "         Grid_quality_indicator              ...               \\\n",
      "2441890                       1              ...                \n",
      "\n",
      "        Statistical_Region Travel_to_Work_Area Census_Area_Statistics_ward  \\\n",
      "2441890                  5           E30000234                      00AWGA   \n",
      "\n",
      "        National_park Built-up_Area Built-up_Area_Sub-division   latitude  \\\n",
      "2441890     E99999999     E34004707                  E35000074  51.505709   \n",
      "\n",
      "         longitude  Police_Force_Area Index_of_Multiple_Deprivation  \n",
      "2441890  -0.198458          E23000001                         22636  \n",
      "\n",
      "[1 rows x 21 columns]\n"
     ]
    }
   ],
   "source": [
    "NE = 'National_grid_Easting'\n",
    "NN = 'National_grid_Northing'\n",
    "LA = 'latitude'\n",
    "LO = 'longitude'\n",
    "#where(postcodes[NE == 525130 and NN == 180050]))\n",
    "#df[df['first_name'].notnull() & (df['nationality'] == \"USA\")]\n",
    "#df['preTestScore'].where(df['postTestScore'] > 50)\n",
    "\n",
    "#print(postcodes[['postcode',LA,LO,NE,NN]].where(postcodes[NN] == 180069).dropna())\n",
    "print(postcodes.loc(['postcode'])[(postcodes['postcode'] == ('W8  7EJ'))])\n",
    "\n"
   ]
  }
 ],
 "metadata": {
  "kernelspec": {
   "display_name": "Python (GA)",
   "language": "python",
   "name": "ga"
  },
  "language_info": {
   "codemirror_mode": {
    "name": "ipython",
    "version": 2
   },
   "file_extension": ".py",
   "mimetype": "text/x-python",
   "name": "python",
   "nbconvert_exporter": "python",
   "pygments_lexer": "ipython2",
   "version": "2.7.13"
  }
 },
 "nbformat": 4,
 "nbformat_minor": 2
}
