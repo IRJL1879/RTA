{
 "cells": [
  {
   "cell_type": "markdown",
   "metadata": {},
   "source": [
    "# Casualties data Preprocessing\n",
    "\n",
    "\n",
    "### Process Flow :\n",
    "\n",
    "1. load file from Internet and create pickle snapshot in case dataset site off-line \n",
    "2. save cleaned Caualties data for downstream use\n",
    "3. reload preprocessed data and check details\n",
    "\n",
    "### Input data\n",
    "\n",
    "Casualties data: from https://data.gov.uk/dataset/road-accidents-safety-data  \n",
    "**Casualties_FLM.csv**: from /Specs directory\n",
    "\n",
    "### Output data\n",
    "\n",
    "* 'Casualties_2015.pickle': snapshot of Casualties source data\n",
    "* 'Casualties.pickle' : **Casualties dataset**\n",
    "* saved data assessment plot (.png) snapshots"
   ]
  },
  {
   "cell_type": "markdown",
   "metadata": {},
   "source": [
    "## Import external libraries"
   ]
  },
  {
   "cell_type": "code",
   "execution_count": 1,
   "metadata": {
    "collapsed": true
   },
   "outputs": [],
   "source": [
    "'''\n",
    "RTA Casualties required imports\n",
    "'''\n",
    "import pandas as pd\n",
    "import numpy as np\n",
    "import time\n",
    "import matplotlib.pyplot as plt\n",
    "%matplotlib inline"
   ]
  },
  {
   "cell_type": "markdown",
   "metadata": {},
   "source": [
    "## 'Import' RTAutilities"
   ]
  },
  {
   "cell_type": "code",
   "execution_count": 2,
   "metadata": {
    "collapsed": true
   },
   "outputs": [],
   "source": [
    "'''\n",
    "Provide output of csv and pickle formats for DataFrames\n",
    "'''\n",
    "def pick_and_csv(df, path, filename):\n",
    "    import sys\n",
    "    try:\n",
    "        df.to_csv(path + filename + '.csv', index=False)\n",
    "        df.to_pickle(path + filename + '.pickle')\n",
    "    except IOError as (errno, strerror):\n",
    "        print ('I/O error({0}): {1}'.format(errno, strerror))\n",
    "        if errno == 13:\n",
    "            print ('*** check to see if (someone has) file already open ***')\n",
    "        elif errno == 2:\n",
    "            print ('Directory parameter needs to be a valid directory')\n",
    "    except:\n",
    "        print (\"Unexpected error:\", sys.exc_info()[0])\n",
    "        print ('*** is first parameter a DataFrame? ***')\n",
    "        raise"
   ]
  },
  {
   "cell_type": "markdown",
   "metadata": {},
   "source": [
    "## Load Casuaties data and create dataset"
   ]
  },
  {
   "cell_type": "code",
   "execution_count": 3,
   "metadata": {},
   "outputs": [
    {
     "name": "stdout",
     "output_type": "stream",
     "text": [
      "Casualties dataload from website: 26.3289999962 seconds \n"
     ]
    }
   ],
   "source": [
    "'''\n",
    "load all Casualties data and save snapshot\n",
    "'''\n",
    "start_time0 = time.time()\n",
    "\n",
    "#load Casualties file from url\n",
    "url = 'http://data.dft.gov.uk/road-accidents-safety-data/RoadSafetyData_Casualties_2015.zip'\n",
    "Casualties = pd.read_csv(url, compression='zip', sep=',', quotechar='\"', engine = 'python')\n",
    "\n",
    "#Save Casualties data as a csv and pickle file\n",
    "_ = pick_and_csv(Casualties, 'Data/', 'Casualties_2015')\n",
    "\n",
    "print (\"Casualties dataload from website: %s seconds \" % (time.time() - start_time0))"
   ]
  },
  {
   "cell_type": "code",
   "execution_count": 4,
   "metadata": {},
   "outputs": [
    {
     "name": "stdout",
     "output_type": "stream",
     "text": [
      "Casualties dataset preparation: 4.24300003052 seconds \n"
     ]
    }
   ],
   "source": [
    "start_time0 = time.time()\n",
    "\n",
    "#load 'Field Load Map' specification\n",
    "pfl = pd.read_csv('Specs/Casualties_FLM_2.csv', low_memory=False)\n",
    "pc_cols_rename = dict(pfl[['field_name','field_descriptor']].where(pfl['import']=='Y').dropna().values.tolist())\n",
    "pc_cols_drop = pfl['field_name'].where(pfl['import']=='N').dropna().values.tolist()\n",
    "\n",
    "#clean data\n",
    "Casualties.drop(pc_cols_drop, axis=1, inplace=True) # drop columns based on loaded 'FLM' spec\n",
    "Casualties.rename(columns=pc_cols_rename, inplace=True) #rename columns to lower case and no spaces based on 'FLM' spec\n",
    "Casualties.astype(np.int, inplace=True, errors='ignore') # make all fields int64 - exception is Accident index.\n",
    "\n",
    "#save for later\n",
    "_ = pick_and_csv(Casualties, 'Data/', 'Casualties')\n",
    "    \n",
    "print \"Casualties dataset preparation: %s seconds \" % (time.time() - start_time0)"
   ]
  },
  {
   "cell_type": "markdown",
   "metadata": {},
   "source": [
    "## Data assessment"
   ]
  },
  {
   "cell_type": "code",
   "execution_count": 5,
   "metadata": {
    "collapsed": true
   },
   "outputs": [],
   "source": [
    "'''\n",
    "Reload RTA Casualties dataframe\n",
    "'''\n",
    "#Casualties = pd.read_csv('Data/Casualties.csv')\n",
    "Casualties = pd.read_pickle('Data/Casualties.pickle')"
   ]
  },
  {
   "cell_type": "code",
   "execution_count": 6,
   "metadata": {},
   "outputs": [
    {
     "name": "stdout",
     "output_type": "stream",
     "text": [
      "<class 'pandas.core.frame.DataFrame'>\n",
      "RangeIndex: 186189 entries, 0 to 186188\n",
      "Data columns (total 16 columns):\n",
      "accident_index                        186189 non-null object\n",
      "vehicle_reference                     186189 non-null int64\n",
      "casualty_reference                    186189 non-null int64\n",
      "casualty_class                        186189 non-null int64\n",
      "sex_of_casualty                       186189 non-null int64\n",
      "age_of_casualty                       186189 non-null int64\n",
      "age_band_of_casualty                  186189 non-null int64\n",
      "casualty_severity                     186189 non-null int64\n",
      "pedestrian_location                   186189 non-null int64\n",
      "pedestrian_movement                   186189 non-null int64\n",
      "car_passenger                         186189 non-null int64\n",
      "bus_or_coach_passenger                186189 non-null int64\n",
      "pedestrian_road_maintenance_worker    186189 non-null int64\n",
      "casualty_type                         186189 non-null int64\n",
      "casualty_home_area_type               186189 non-null int64\n",
      "casualty_imd_decile                   186189 non-null int64\n",
      "dtypes: int64(15), object(1)\n",
      "memory usage: 22.7+ MB\n"
     ]
    }
   ],
   "source": [
    "Casualties.info()"
   ]
  },
  {
   "cell_type": "code",
   "execution_count": 7,
   "metadata": {},
   "outputs": [
    {
     "data": {
      "text/html": [
       "<div>\n",
       "<style>\n",
       "    .dataframe thead tr:only-child th {\n",
       "        text-align: right;\n",
       "    }\n",
       "\n",
       "    .dataframe thead th {\n",
       "        text-align: left;\n",
       "    }\n",
       "\n",
       "    .dataframe tbody tr th {\n",
       "        vertical-align: top;\n",
       "    }\n",
       "</style>\n",
       "<table border=\"1\" class=\"dataframe\">\n",
       "  <thead>\n",
       "    <tr style=\"text-align: right;\">\n",
       "      <th></th>\n",
       "      <th>accident_index</th>\n",
       "      <th>vehicle_reference</th>\n",
       "      <th>casualty_reference</th>\n",
       "      <th>casualty_class</th>\n",
       "      <th>sex_of_casualty</th>\n",
       "      <th>age_of_casualty</th>\n",
       "      <th>age_band_of_casualty</th>\n",
       "      <th>casualty_severity</th>\n",
       "      <th>pedestrian_location</th>\n",
       "      <th>pedestrian_movement</th>\n",
       "      <th>car_passenger</th>\n",
       "      <th>bus_or_coach_passenger</th>\n",
       "      <th>pedestrian_road_maintenance_worker</th>\n",
       "      <th>casualty_type</th>\n",
       "      <th>casualty_home_area_type</th>\n",
       "      <th>casualty_imd_decile</th>\n",
       "    </tr>\n",
       "  </thead>\n",
       "  <tbody>\n",
       "    <tr>\n",
       "      <th>0</th>\n",
       "      <td>201597UA71710</td>\n",
       "      <td>2</td>\n",
       "      <td>1</td>\n",
       "      <td>1</td>\n",
       "      <td>2</td>\n",
       "      <td>75</td>\n",
       "      <td>10</td>\n",
       "      <td>3</td>\n",
       "      <td>0</td>\n",
       "      <td>0</td>\n",
       "      <td>0</td>\n",
       "      <td>0</td>\n",
       "      <td>0</td>\n",
       "      <td>9</td>\n",
       "      <td>3</td>\n",
       "      <td>-1</td>\n",
       "    </tr>\n",
       "    <tr>\n",
       "      <th>1</th>\n",
       "      <td>201597UA71810</td>\n",
       "      <td>2</td>\n",
       "      <td>1</td>\n",
       "      <td>2</td>\n",
       "      <td>2</td>\n",
       "      <td>63</td>\n",
       "      <td>9</td>\n",
       "      <td>2</td>\n",
       "      <td>0</td>\n",
       "      <td>0</td>\n",
       "      <td>0</td>\n",
       "      <td>4</td>\n",
       "      <td>0</td>\n",
       "      <td>11</td>\n",
       "      <td>3</td>\n",
       "      <td>-1</td>\n",
       "    </tr>\n",
       "  </tbody>\n",
       "</table>\n",
       "</div>"
      ],
      "text/plain": [
       "  accident_index  vehicle_reference  casualty_reference  casualty_class  \\\n",
       "0  201597UA71710                  2                   1               1   \n",
       "1  201597UA71810                  2                   1               2   \n",
       "\n",
       "   sex_of_casualty  age_of_casualty  age_band_of_casualty  casualty_severity  \\\n",
       "0                2               75                    10                  3   \n",
       "1                2               63                     9                  2   \n",
       "\n",
       "   pedestrian_location  pedestrian_movement  car_passenger  \\\n",
       "0                    0                    0              0   \n",
       "1                    0                    0              0   \n",
       "\n",
       "   bus_or_coach_passenger  pedestrian_road_maintenance_worker  casualty_type  \\\n",
       "0                       0                                   0              9   \n",
       "1                       4                                   0             11   \n",
       "\n",
       "   casualty_home_area_type  casualty_imd_decile  \n",
       "0                        3                   -1  \n",
       "1                        3                   -1  "
      ]
     },
     "execution_count": 7,
     "metadata": {},
     "output_type": "execute_result"
    }
   ],
   "source": [
    "Casualties.head(2)"
   ]
  },
  {
   "cell_type": "code",
   "execution_count": 8,
   "metadata": {
    "scrolled": true
   },
   "outputs": [
    {
     "data": {
      "image/png": "[encoded data removed]",
      "text/plain": [
       "<matplotlib.figure.Figure at 0xcdfc240>"
      ]
     },
     "metadata": {},
     "output_type": "display_data"
    }
   ],
   "source": [
    "'''\n",
    "RTA Casualties check data fields\n",
    "'''\n",
    "# check data\n",
    "col = 'age_of_casualty'\n",
    "\n",
    "plt.figure(figsize=(40,10))\n",
    "Casualties.groupby([col])[col].count().plot(kind='bar', color='g',legend=True)\n",
    "plt.ylabel('count')\n",
    "plt.savefig('Data/Pics/Casualties_Bar_'+col+'.png')\n",
    "plt.show()\n",
    "\n",
    "#print(Casualties.groupby([col])[col].count())"
   ]
  }
 ],
 "metadata": {
  "kernelspec": {
   "display_name": "Python (GA)",
   "language": "python",
   "name": "ga"
  },
  "language_info": {
   "codemirror_mode": {
    "name": "ipython",
    "version": 2
   },
   "file_extension": ".py",
   "mimetype": "text/x-python",
   "name": "python",
   "nbconvert_exporter": "python",
   "pygments_lexer": "ipython2",
   "version": "2.7.13"
  }
 },
 "nbformat": 4,
 "nbformat_minor": 2
}
