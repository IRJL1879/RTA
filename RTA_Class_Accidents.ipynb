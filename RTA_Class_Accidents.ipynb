{
 "cells": [
  {
   "cell_type": "markdown",
   "metadata": {},
   "source": [
    "# Accident data Preprocessing"
   ]
  },
  {
   "cell_type": "markdown",
   "metadata": {},
   "source": [
    "### The following sources have been used:\n",
    "\n",
    "Accident data: https://data.gov.uk/dataset/road-accidents-safety-data"
   ]
  },
  {
   "cell_type": "code",
   "execution_count": 1,
   "metadata": {
    "collapsed": false
   },
   "outputs": [
    {
     "name": "stdout",
     "output_type": "stream",
     "text": [
      "Accidents dataload: 2.18299984932 seconds \n"
     ]
    }
   ],
   "source": [
    "'''\n",
    "RTA Accident file creation\n",
    "\n",
    "'''\n",
    "import pandas as pd\n",
    "import glob\n",
    "import os\n",
    "import time\n",
    "\n",
    "###print(os.getcwd())\n",
    "\n",
    "start_time0 = time.time()\n",
    "\n",
    "# file i/o\n",
    "csv_loader ='Specs/Accidents_FLM.csv'\n",
    "csv_in = 'Data/Accidents_2015.csv'\n",
    "csv_out = 'Data/Accidents.csv'\n",
    "\n",
    "#load field name mapper\n",
    "pfl = pd.read_csv(csv_loader,low_memory=False)\n",
    "pc_cols_rename = dict(pfl[['field_name','field_descriptor']].where(pfl['import']=='Y').dropna().values.tolist())\n",
    "pc_cols_drop = pfl['field_name'].where(pfl['import']=='N').dropna().values.tolist()\n",
    "\n",
    "#load Accident file\n",
    "Accidents = pd.read_csv(csv_in, low_memory=False)\n",
    "\n",
    "#clean up data\n",
    "Accidents.drop(pc_cols_drop, axis=1, inplace=True)\n",
    "Accidents.rename(columns=pc_cols_rename, inplace=True)\n",
    "###postcodes.drop_duplicates()\n",
    "###postcodes.info()\n",
    "\n",
    "#save for later\n",
    "try:\n",
    "    Accidents.to_csv(csv_out, index=False)\n",
    "except IOError as (errno, strerror):\n",
    "    print 'I/O error({0}): {1}'.format(errno, strerror)\n",
    "    if errno == 13:\n",
    "        print '*** check to see if (someone has) file already open ***'\n",
    "except:\n",
    "    print \"Unexpected error:\", sys.exc_info()[0]\n",
    "    raise\n",
    "    \n",
    "print \"Accidents dataload: %s seconds \" % (time.time() - start_time0)"
   ]
  },
  {
   "cell_type": "code",
   "execution_count": 2,
   "metadata": {
    "collapsed": false
   },
   "outputs": [
    {
     "name": "stdout",
     "output_type": "stream",
     "text": [
      "C:\\GA\\RTA\n"
     ]
    }
   ],
   "source": [
    "'''\n",
    "RTA Accident load\n",
    "\n",
    "'''\n",
    "import pandas as pd\n",
    "import os\n",
    "import time\n",
    "\n",
    "print(os.getcwd())\n",
    "\n",
    "#Load Accident data\n",
    "csv_in = 'Data/Accidents.csv'\n",
    "Accidents = pd.read_csv(csv_in)\n"
   ]
  },
  {
   "cell_type": "code",
   "execution_count": 3,
   "metadata": {
    "collapsed": false
   },
   "outputs": [
    {
     "name": "stdout",
     "output_type": "stream",
     "text": [
      "<class 'pandas.core.frame.DataFrame'>\n",
      "RangeIndex: 140056 entries, 0 to 140055\n",
      "Data columns (total 25 columns):\n",
      "accident_index                                 140056 non-null object\n",
      "location_easting_osgr                          140029 non-null float64\n",
      "location_northing_osgr                         140029 non-null float64\n",
      "longitude                                      140029 non-null float64\n",
      "latitude                                       140029 non-null float64\n",
      "police_force                                   140056 non-null int64\n",
      "accident_severity                              140056 non-null int64\n",
      "number_of_vehicles                             140056 non-null int64\n",
      "number_of_casualties                           140056 non-null int64\n",
      "date                                           140056 non-null object\n",
      "day_of_week                                    140056 non-null int64\n",
      "time                                           140038 non-null object\n",
      "local_authority_(district)                     140056 non-null int64\n",
      "local_authority_(highway)                      140056 non-null object\n",
      "first_road_class                               140056 non-null int64\n",
      "road_type                                      140056 non-null int64\n",
      "speed_limit                                    140056 non-null int64\n",
      "junction_detail                                140056 non-null int64\n",
      "junction_control                               140056 non-null int64\n",
      "light_conditions                               140056 non-null int64\n",
      "weather_conditions                             140056 non-null int64\n",
      "road_surface_conditions                        140056 non-null int64\n",
      "urban_or_rural_area                            140056 non-null int64\n",
      "did_police_officer_attend_scene_of_accident    140056 non-null int64\n",
      "lsoa_of_accident_location                      131159 non-null object\n",
      "dtypes: float64(4), int64(16), object(5)\n",
      "memory usage: 26.7+ MB\n",
      "None\n"
     ]
    },
    {
     "data": {
      "image/png": "[encoded data removed]",
      "text/plain": [
       "<matplotlib.figure.Figure at 0x8b22240>"
      ]
     },
     "metadata": {},
     "output_type": "display_data"
    }
   ],
   "source": [
    "'''\n",
    "RTA Accident check data\n",
    "\n",
    "'''\n",
    "\n",
    "import matplotlib.pyplot as plt\n",
    "%matplotlib inline\n",
    "\n",
    "# check data\n",
    "print(Accidents.info())\n",
    "col = 'did_police_officer_attend_scene_of_accident'\n",
    "Accidents.groupby([col])[col].count().plot(kind='bar')\n",
    "plt.show()\n",
    "\n",
    "#print(Accidents.groupby([col])[col].count())"
   ]
  },
  {
   "cell_type": "code",
   "execution_count": 4,
   "metadata": {
    "collapsed": false
   },
   "outputs": [],
   "source": [
    "NE = 'National_grid_Easting'\n",
    "NN = 'National_grid_Northing'\n",
    "LA = 'latitude'\n",
    "LO = 'longitude'\n",
    "#where(postcodes[NE == 525130 and NN == 180050]))\n",
    "#df[df['first_name'].notnull() & (df['nationality'] == \"USA\")]\n",
    "#df['preTestScore'].where(df['postTestScore'] > 50)\n",
    "\n",
    "#print(postcodes[['postcode',LA,LO,NE,NN]].where(postcodes[NN] == 180069).dropna())\n",
    "#print(postcodes.loc(['postcode'])[(postcodes['postcode'] == ('W8  7EJ'))])\n",
    "\n"
   ]
  }
 ],
 "metadata": {
  "kernelspec": {
   "display_name": "Python (GA)",
   "language": "python",
   "name": "ga"
  },
  "language_info": {
   "codemirror_mode": {
    "name": "ipython",
    "version": 2
   },
   "file_extension": ".py",
   "mimetype": "text/x-python",
   "name": "python",
   "nbconvert_exporter": "python",
   "pygments_lexer": "ipython2",
   "version": "2.7.13"
  }
 },
 "nbformat": 4,
 "nbformat_minor": 2
}
