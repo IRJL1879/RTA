{
 "cells": [
  {
   "cell_type": "markdown",
   "metadata": {},
   "source": [
    "# Iain Lyall\n",
    "\n",
    "# GA Data Science project : DAT3 (Mar-May 2017) "
   ]
  },
  {
   "cell_type": "markdown",
   "metadata": {},
   "source": [
    "## Project case\n",
    "\n",
    "This project aims to meet the needs of the General Assembly's (GA) project deliverable for the 10 week, part-time Data Science course. The intention is to provide evidence of learning Data Science topics by the end of the course (May 2017). This includes (to a greater or lesser extent):\n",
    "\n",
    "* Python hacking\n",
    "* Data wrangling - scraping, cleaning and analysis.\n",
    "* Leverage of Statistical data algorithms\n",
    "* Machine learning, including methods used to train/test data\n",
    "* Data visualisation\n",
    "\n",
    "Given the relatively short duration of the course and the volume of 'human learning' required, the project deliverable  is not expected to be a commecial grade application. However, a summary of the strength and weaknesses should be provided at completion, as well as possible improvements to take it forward. Hopefully though, the project will provide more than a certification and prove 'of interest' to others, such as future GA students."
   ]
  },
  {
   "cell_type": "markdown",
   "metadata": {},
   "source": [
    "## Choosing a project scope\n",
    "\n",
    "The following 4 step approach is recommended:\n",
    "\n",
    "1/  Identify the problem to be solved   \n",
    "2/  Identify the dataset of interest   \n",
    "3/  Explore dataset in step 2  \n",
    "4/  Identify and confirm approach to solving 1  "
   ]
  },
  {
   "cell_type": "markdown",
   "metadata": {},
   "source": [
    "## Chosen scope\n",
    "\n",
    "Determine if there are any key influencers on UK road accidents based on identifiable features from government provided, public data. Are there any features that can be used to predict levels of accidents at a regional level?\n"
   ]
  },
  {
   "cell_type": "markdown",
   "metadata": {},
   "source": [
    "## Dataset(s) of interest\n",
    "\n",
    "Datasets provided by the UK government on road safety will be used. This includes those with raw data, collections or statistical tables. The following datasets will be 'scraped' into a dataFrame (or two) such that they can be used for analysis and reporting purposes:\n",
    "\n",
    "https://data.gov.uk/dataset/road-accidents-safety-data    \n",
    "https://www.gov.uk/government/collections/driving-test-operational-statistics    \n",
    "https://www.gov.uk/government/collections/road-accidents-and-safety-statistics   \n",
    "https://www.gov.uk/government/statistical-data-sets/road-accidents-and-safety-statistical-tables-index    \n",
    "https://www.gov.uk/government/policies/road-safety \n",
    "\n",
    "Other datasets are highlighted in the Jupyter presentations on Github\n",
    "\n",
    "Ongoing...\n"
   ]
  },
  {
   "cell_type": "markdown",
   "metadata": {},
   "source": [
    "## Dataset exploration\n",
    "\n",
    "Wow there are a lot of datsets out there !! Currently honing them down to ones I can realistically use without too much wrangling!\n",
    "\n",
    "still to do::\n",
    "\n",
    "- map a road to a 'distance' line.\n",
    "  Allows dot plot/histogram presentation by distance and will help deteremine features for predictive analysis.\n",
    "- provide some interesting analysis extracts\n",
    "  try to reproduce accident heatmap (as per mapdata link mentioned below) for M25 specific data.\n",
    "  dispelling the fact that there are differeces between male and female stats! need the total nums for normalisation!\n",
    "  seasonal and daily/weekly patterns\n",
    "  speed camera influence on accidents. need to identify clockwise vs anticlockwise cameras!\n",
    "- reduce time of full UK plots (pickling or better data filtering)\n",
    "  \n",
    "\n",
    "Ongoing...\n",
    "\n",
    "\n"
   ]
  },
  {
   "cell_type": "markdown",
   "metadata": {},
   "source": [
    "# Approach\n",
    "\n",
    "Still in the identify and review stage!\n",
    "\n",
    "![Framework (from Data Exploration with Python: Tony Ojeda)](https://silvrback.s3.amazonaws.com/uploads/774cd15b-faa2-447f-86e2-7a099e79f8b5/framework.png)\n",
    "\n",
    "Taken from: https://silvrback.s3.amazonaws.com/uploads/774cd15b-faa2-447f-86e2-7a099e79f8b5/framework.png  \n",
    "\n",
    "Initialy focus would be on 2015 data as this seems most readily available across all datasets. If time permits, a similar assement may be done for other years. Some incidental statistics will also be provided by use of graphical plots and histograms (e.g. distributions of pass rates by region, yearly variations in test numbers and car models involved in an accident). These will be verified against any statistical reports already provided by the data sources.\n",
    "\n",
    "Some linear regression and clustering assessment will be performed to determine best features to use. Presentation will make use of available packges - e.g. Basemap with UK based shapefiles to demonstrate any regional variations and other graphical illustrations.\n",
    "\n",
    "Possibility to leverage machine learning is not yet clear, but may prove possible to use the data to train a (supervised) prediction of outcome. \n",
    "\n",
    "Initial investigation will focus on inexperienced (newly qualified) drivers.\n",
    "\n",
    "Ongoing..."
   ]
  },
  {
   "cell_type": "markdown",
   "metadata": {},
   "source": [
    "## Important notes\n",
    "\n",
    "* caveats e.g. confidentialty of data set etc.\n",
    "* ackkowledgements dataset sources and packages used\n",
    "* Assumptions (people take test outside thier location - practical tests only...)\n",
    "\n",
    "Ongoing...\n"
   ]
  },
  {
   "cell_type": "markdown",
   "metadata": {},
   "source": [
    "# Post project Debrief"
   ]
  },
  {
   "cell_type": "markdown",
   "metadata": {},
   "source": [
    "### Future work\n",
    "\n",
    "will look at additional result preparation (use of Googlemaps, dat input dashboard, machine learning...) and perhaps different appraoches in hindsight.\n",
    "\n",
    "Expansion of speed camera data: http://www.speedcams.eu/speedcameras (available for purchase)  \n",
    "incorporation of Wikipedia details: https://en.wikipedia.org/wiki/M25_motorway  \n",
    "Use of googlemaps: https://developers.google.com/maps/  \n",
    "Use of UK OS data: https://www.ordnancesurvey.co.uk/opendatadownload/products.html#OPROAD  \n",
    "Provision of dashboard\n",
    "road specific data analysis\n",
    "Postcode regional analysis\n",
    "\n",
    "Ongoing ..."
   ]
  },
  {
   "cell_type": "markdown",
   "metadata": {},
   "source": [
    "### Other people's work on same/similar subject!\n",
    "\n",
    "Inevitably with public data I have discovered other people's attempts to provide details on the accident data. I've avoided pagerism (honest!), but their ideas did trigger some thoughts. Links below:\n",
    "\n",
    "http://www.mapsdata.co.uk/portfolio-items/traffic-accidents-uk/   \n",
    "http://www.crashmap.co.uk/Search\n",
    "\n",
    "I am sure there are others which I have not found! Would expect this to be a typical intellectual property issue for commercial enterprises, but fortunately this project is only a student learning exercise!\n",
    "\n",
    "Other M25 type assessments:\n",
    "http://stackoverflow.com/questions/28341869/retrieve-all-latitude-longitude-points-within-x-distance-given-an-area\n",
    "\n",
    "Perhaps a less macabre application of public data, but along similar line is a project to find common names of Singapore roads in a great series of blogs (wish I had thought of this - it uses scikit leran as well!):\n",
    "\n",
    "http://michelleful.github.io/code-blog//2015/04/24/sgmap/\n",
    "\n",
    "Ongoing ...\n",
    "\n",
    "### Tech specs\n",
    "\n",
    "All work carried out on an XPS 13 core i7 (2 processor 8Gb) laptop. CPU only. Can struggle wit some of the more high volume plotting. Calss exercises on nueral netowrks challenge the processor(s)! 4 processor 16Gb would have been better! Fortunately this project was not too deep!\n",
    "\n",
    "Python 2.7 used\n",
    "\n",
    "No costs were incurred for datasert downloads"
   ]
  }
 ],
 "metadata": {
  "kernelspec": {
   "display_name": "Python (GA)",
   "language": "python",
   "name": "ga"
  },
  "language_info": {
   "codemirror_mode": {
    "name": "ipython",
    "version": 2
   },
   "file_extension": ".py",
   "mimetype": "text/x-python",
   "name": "python",
   "nbconvert_exporter": "python",
   "pygments_lexer": "ipython2",
   "version": "2.7.13"
  }
 },
 "nbformat": 4,
 "nbformat_minor": 2
}
